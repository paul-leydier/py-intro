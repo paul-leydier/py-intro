{
 "cells": [
  {
   "cell_type": "markdown",
   "id": "danish-coating",
   "metadata": {},
   "source": [
    "# <center><font color=\"#D38F00\"><u>SORBONNE DATA ANALYTICS :<br/> Introduction à Python</u></font></center>"
   ]
  },
  {
   "cell_type": "markdown",
   "id": "supposed-blake",
   "metadata": {},
   "source": [
    "# <span style=\"color:#011C5D\">2. Numpy</span>"
   ]
  },
  {
   "cell_type": "markdown",
   "id": "bottom-accreditation",
   "metadata": {},
   "source": [
    "La librairie **Numpy**, dont le nom est la contraction de *Numeric Python*, est l'une des librairies que vous serez le plus amenés à utiliser en Python pour le **calcul scientifique** et la **manipulation de données**."
   ]
  },
  {
   "cell_type": "markdown",
   "id": "informal-commander",
   "metadata": {},
   "source": [
    "Numpy offre des **performances** de calcul et de manipulation de données extrêmement intéressantes pour le langage Python, car il s'agit d'une librairie dont les dépendances ont été codées en **C**, puis **pré-compilées** pour les différentes plateformes sur lesquelles Numpy est distribué.\n",
    "\n",
    "Malgré cette complexité, vous pouvez très facilement installer Numpy, via la commande `pip install numpy`, dont nous avons parlé plus tôt. Une fois installé, il vous suffit de l'importer au sein de votre script, généralement sous la convention `import numpy as np`."
   ]
  },
  {
   "cell_type": "code",
   "execution_count": null,
   "id": "suspected-advice",
   "metadata": {},
   "outputs": [],
   "source": [
    "import numpy as np"
   ]
  },
  {
   "cell_type": "markdown",
   "id": "patent-uzbekistan",
   "metadata": {},
   "source": [
    "Dans ce chapitre, vous aller apprendre à utiliser les fonctionnalités centrales de Numpy :\n",
    "\n",
    "- Premièrement, nous étudierons une structure de données alternative aux listes : les **Numpy Arrays**\n",
    "- En suite, nous apprendrons à utiliser de nombreuses **fonctions mathématiques** issues de la librairie Numpy\n",
    "- Enfin, nous utiliserons le **Broadcasting** et la **vectorisation** afin d'effectuer des calculs multi-dimensionnels"
   ]
  },
  {
   "cell_type": "markdown",
   "id": "broke-arrival",
   "metadata": {},
   "source": [
    "![Numpy Logo](https://github.com/numpy/numpy/raw/main/branding/logo/primary/numpylogo.svg)"
   ]
  },
  {
   "cell_type": "markdown",
   "id": "grand-making",
   "metadata": {},
   "source": [
    "Je vous propose de rentrer tout de suite dans le vif du sujet, avec les arrays !"
   ]
  },
  {
   "cell_type": "markdown",
   "id": "convertible-mumbai",
   "metadata": {},
   "source": [
    "## <span style=\"color:#011C5D\">2.1. Les Numpy Arrays</span>\n",
    "\n",
    "### <span style=\"color:#011C5D\">La déclaration</span>"
   ]
  },
  {
   "cell_type": "markdown",
   "id": "instrumental-crossing",
   "metadata": {},
   "source": [
    "Les **numpy arrays** sont l'une des fonctionnalités principales et centrales de Numpy. Il s'agit d'une alternative aux listes natives de Python.\n",
    "\n",
    "Afin de créer un array Numpy, il vous suffit simplement de convertir une liste, via la fonction `np.array()`."
   ]
  },
  {
   "cell_type": "code",
   "execution_count": null,
   "id": "satisfied-planet",
   "metadata": {},
   "outputs": [],
   "source": [
    "a = np.array([1, 2, 3, 4])  # array créé à partir d'une liste\n",
    "a"
   ]
  },
  {
   "cell_type": "markdown",
   "id": "uniform-scout",
   "metadata": {},
   "source": [
    "Attention, contrairement aux listes, tous les éléments d'un array sont d'un **même type** (souvent numérique, comme les integers, et les floats). Cela permet à la librairie Numpy d'appliquer des opérations à l'échelle d'un array de manière très **rapide** et **consistente**.\n",
    "\n",
    "Si nécessaire, vous pouvez **préciser** ce type au moment de la création de l'array. Dans l'exemple ci-dessous, nous voulons que les nombres soient stockés sous le type float, et non sous le type integer."
   ]
  },
  {
   "cell_type": "code",
   "execution_count": null,
   "id": "single-update",
   "metadata": {},
   "outputs": [],
   "source": [
    "a = np.array([1, 2, 3, 4], float)  # On peut préciser le type des éléments\n",
    "a"
   ]
  },
  {
   "cell_type": "markdown",
   "id": "scheduled-communications",
   "metadata": {},
   "source": [
    "Comme pour les listes natives, vous accédez aux éléments au sein d'un array via l'**accesseur** représenté par des crochet `[]`."
   ]
  },
  {
   "cell_type": "code",
   "execution_count": null,
   "id": "worst-sleeve",
   "metadata": {},
   "outputs": [],
   "source": [
    "a[2]"
   ]
  },
  {
   "cell_type": "markdown",
   "id": "accurate-guinea",
   "metadata": {},
   "source": [
    "Le **slicing** fonctionne de la même manière que pour les listes : séparez votre index de début et votre index de fin par le symbole `:`.\n",
    "\n",
    "*L'index de fin est ici aussi exclus.*"
   ]
  },
  {
   "cell_type": "code",
   "execution_count": null,
   "id": "therapeutic-fellowship",
   "metadata": {},
   "outputs": [],
   "source": [
    "a[1:3]"
   ]
  },
  {
   "cell_type": "markdown",
   "id": "romance-translation",
   "metadata": {},
   "source": [
    "Si vous appiquez la fonction `type()` sur un array, vous vous apercevrez que le véritable nom des arrays est `numpy.ndarray` pour \"*n-dimensionnal array*\": \"*tableau de dimension n*\"."
   ]
  },
  {
   "cell_type": "code",
   "execution_count": null,
   "id": "civic-fireplace",
   "metadata": {},
   "outputs": [],
   "source": [
    "type(a)  # le type du tableau est np.ndarray"
   ]
  },
  {
   "cell_type": "markdown",
   "id": "endangered-destiny",
   "metadata": {},
   "source": [
    "C'est le cas parceque les **arrays Numpy** ont été conçus dans le but de stocker des données **multi-dimensionnelles**.\n",
    "\n",
    "Pour ce faire, il vous suffit de **convertir des listes imbriquées** en array. Ici, nous créons un array de 2 dimensions : 3 lignes, et 4 colonnes."
   ]
  },
  {
   "cell_type": "code",
   "execution_count": null,
   "id": "maritime-department",
   "metadata": {},
   "outputs": [],
   "source": [
    "a = np.array([[1, 2, 3, 4], [5, 6, 7, 8], [9, 10, 11, 12]])  # array de 2 dimensions (3 lignes, 4 colonnes)\n",
    "a"
   ]
  },
  {
   "cell_type": "markdown",
   "id": "cubic-wednesday",
   "metadata": {},
   "source": [
    "Vous pouvez créer des arrays Numpy jusqu'à **32 dimensions** !"
   ]
  },
  {
   "cell_type": "markdown",
   "id": "better-green",
   "metadata": {},
   "source": [
    "### <span style=\"color:#011C5D\">L'accession</span>\n",
    "\n",
    "Pour **sélectionner un élément** d'un array multi-dimensionnel, vous devrez préciser l'index souhaité dans chacune des dimensions, et séparer ces dimensions par une virgule.\n",
    "\n",
    "Ici, nous sélectionnons l'élément de la ligne 1, et de la colonne 2."
   ]
  },
  {
   "cell_type": "code",
   "execution_count": null,
   "id": "alive-stick",
   "metadata": {},
   "outputs": [],
   "source": [
    "a[1, 2]  # élément de la ligne 1, colonne 2"
   ]
  },
  {
   "cell_type": "markdown",
   "id": "independent-initial",
   "metadata": {},
   "source": [
    "Le **slicing** des arrays Numpy fonctionne de la même manière que pour les listes Python natives, mais est **généralisé** aux multiples dimensions.\n",
    "\n",
    "Ainsi, vous séparerez les différentes dimensions aux sein des slices par une virgule `,`, et pourrez sélectionner tous les éléments d'une dimensions via le symbole `:`.\n",
    "\n",
    "Dans l'exemple ci-dessous, nous sélectionnons toutes les lignes de `a`, mais uniquement la colonne 1."
   ]
  },
  {
   "cell_type": "code",
   "execution_count": null,
   "id": "protecting-scene",
   "metadata": {},
   "outputs": [],
   "source": [
    "a[:, 1]  # toutes les lignes, colonne 1"
   ]
  },
  {
   "cell_type": "markdown",
   "id": "technological-poland",
   "metadata": {},
   "source": [
    "Vous pouvez aussi **modifier** un array via le **slicing**.\n",
    "\n",
    "Ici, nous sélectionnons l'intersection des deux premières lignes, et des colonnes 1 et 2, et lui appliquons la valeur \"0\"."
   ]
  },
  {
   "cell_type": "code",
   "execution_count": null,
   "id": "structured-wales",
   "metadata": {},
   "outputs": [],
   "source": [
    "a[:2, 1:3] = 0\n",
    "a"
   ]
  },
  {
   "cell_type": "markdown",
   "id": "described-aside",
   "metadata": {},
   "source": [
    "### <span style=\"color:#011C5D\">Les méthodes et attributs  utiles</span>\n",
    "\n",
    "Une fois que vous avez créé un Numpy array, vous pouvez obtenir des informations sur celui-ci via ses attributs.\n",
    "\n",
    "Par exemple, vous pouvez **accéder au type des éléments** au sein du tableau via l'attribut `.dtype` d'un array."
   ]
  },
  {
   "cell_type": "code",
   "execution_count": null,
   "id": "personalized-bankruptcy",
   "metadata": {},
   "outputs": [],
   "source": [
    "a.dtype  # la propriété .dtype contient le type des éléments du tableau"
   ]
  },
  {
   "cell_type": "markdown",
   "id": "significant-track",
   "metadata": {},
   "source": [
    "L'attribut `.shape` est aussi très utiles, puisqu'il renvoie la longueur de chaque dimension d'un array."
   ]
  },
  {
   "cell_type": "code",
   "execution_count": null,
   "id": "subject-engine",
   "metadata": {},
   "outputs": [],
   "source": [
    "a.shape  # la propriété .shape contient un tuple donnant la taille de chaque dimension"
   ]
  },
  {
   "cell_type": "markdown",
   "id": "frank-entertainment",
   "metadata": {},
   "source": [
    "Notez que `.shape` et `.dtype` ne sont pas des méthodes, mais des **attributs**: vous ne devez pas utiliser de paranthèses après leur nom, et ne pouvez pas passer d'arguments. Ils sont simplement des **informations** sur l'objet que vous utilisez, en l'occurence le Numpy array `a`."
   ]
  },
  {
   "cell_type": "markdown",
   "id": "collect-andrews",
   "metadata": {},
   "source": [
    "Pour **modifier la forme** d'un array, vous utiliserez généralement deux méthodes :\n",
    "\n",
    "- La méthode `.reshape`, qui change la forme d'un array par celle que vous lui donnez. Dans notre cas, nous passons d'un array de dimensions \"*3 lignes*\", \"*4 colonnes*\" à un array de dimensions \"*6 lignes*\", \"*2 colonnes*\"."
   ]
  },
  {
   "cell_type": "code",
   "execution_count": null,
   "id": "aggressive-thing",
   "metadata": {},
   "outputs": [],
   "source": [
    "a.reshape(6,2)  # change la forme de la matrice de (3, 4) à (6, 2)"
   ]
  },
  {
   "cell_type": "markdown",
   "id": "possible-berkeley",
   "metadata": {},
   "source": [
    "La seconde méthode est la méthode `.flatten()` qui vous permettra tout simplement de rendre l'array uni-dimensionnel."
   ]
  },
  {
   "cell_type": "code",
   "execution_count": null,
   "id": "front-marking",
   "metadata": {},
   "outputs": [],
   "source": [
    "a.flatten()  # rend l'array uni-dimensionnel"
   ]
  },
  {
   "cell_type": "markdown",
   "id": "private-stationery",
   "metadata": {},
   "source": [
    "Si vous souhaitez **inverser les axes** d'un array, la fonction `.transpose()` est similaire à celle d'Excel: pour le cas \"*2 dimensions*\", les lignes deviennent les colonnes et vice-versa."
   ]
  },
  {
   "cell_type": "code",
   "execution_count": null,
   "id": "colored-english",
   "metadata": {},
   "outputs": [],
   "source": [
    "a.transpose()  # inverse les axes"
   ]
  },
  {
   "cell_type": "markdown",
   "id": "scenic-superintendent",
   "metadata": {},
   "source": [
    "La dernière méthode d'array que nous allons voir est la méthode `.fill`. Elle vous permettra d'**appliquer une valeur** à l'ensemble d'un array: on dit qu'elle \"remplit\" l'array."
   ]
  },
  {
   "cell_type": "code",
   "execution_count": null,
   "id": "congressional-trade",
   "metadata": {},
   "outputs": [],
   "source": [
    "a.fill(0)  # Remplit l'array d'une valeur\n",
    "a"
   ]
  },
  {
   "cell_type": "markdown",
   "id": "illegal-concern",
   "metadata": {},
   "source": [
    "### <span style=\"color:#011C5D\">La création d'arrays</span>\n",
    "\n",
    "Nous allons maintenant découvrir quelques fonctions utiles pour **générer des données** avec Numpy.\n",
    "\n",
    "Pour commencer, la fonction `np.arange()` est très similaire à la fonction `range()` native de Python : elle permet de **générer** un array de valeurs **entre deux nombres**.\n",
    "\n",
    "Ici, nous générons un array contenant les nombres de 2 à 20 (exclus), avec un pas de 2."
   ]
  },
  {
   "cell_type": "code",
   "execution_count": null,
   "id": "external-rescue",
   "metadata": {},
   "outputs": [],
   "source": [
    "np.arange(2, 20, 2)"
   ]
  },
  {
   "cell_type": "markdown",
   "id": "dynamic-drink",
   "metadata": {},
   "source": [
    "Ensuite, la fonction `np.full()` permet de générer un array d'une forme donnée, et de le **remplir** d'une valeur donnée.\n",
    "\n",
    "Dans notre exemple, nous générons un array de dimensions \"*10 lignes*\", \"*2 colonnes*\", remplies de la valeur *5*."
   ]
  },
  {
   "cell_type": "code",
   "execution_count": null,
   "id": "concrete-minnesota",
   "metadata": {},
   "outputs": [],
   "source": [
    "np.full((10, 2), 5)"
   ]
  },
  {
   "cell_type": "markdown",
   "id": "adjusted-newfoundland",
   "metadata": {},
   "source": [
    "Enfin, avec la fonction `np.random.rand()`, vous pourrez générer un array remplis de nombres aléatoires entre 0 et 1, dans une distribution uniforme."
   ]
  },
  {
   "cell_type": "code",
   "execution_count": null,
   "id": "paperback-house",
   "metadata": {},
   "outputs": [],
   "source": [
    "np.random.rand(10, 2)"
   ]
  },
  {
   "cell_type": "markdown",
   "id": "retained-basis",
   "metadata": {},
   "source": [
    "### <span style=\"color:#011C5D\">La manipulation d'arrays</span>\n",
    "\n",
    "Avant de passer aux exercices, nous allons découvrir comment combiner plusieurs arrays. Pour commencer, nous allons instancier deux variables, `a` et `b` qui contiendrons chacune un Numpy array de dimensions identiques."
   ]
  },
  {
   "cell_type": "code",
   "execution_count": null,
   "id": "latin-performer",
   "metadata": {},
   "outputs": [],
   "source": [
    "a = np.array([[1, 2, 3], [4, 5, 6]])\n",
    "a"
   ]
  },
  {
   "cell_type": "code",
   "execution_count": null,
   "id": "actual-campus",
   "metadata": {},
   "outputs": [],
   "source": [
    "b = np.array([[7, 8, 9], [10, 11, 12]])\n",
    "b"
   ]
  },
  {
   "cell_type": "markdown",
   "id": "phantom-bernard",
   "metadata": {},
   "source": [
    "Vous serez fréquemment amenés à vouloir **fusionner deux arrays** en un seul.\n",
    "\n",
    "Pour ce faire, vous utiliserez la fonction `np.concatenate()` qui prendra deux arguments : une liste des arrays à concaténer, et l'axe sur lequel effectuer la concaténation.\n",
    "\n",
    "Dans notre exemple, `a` et `b` sont chacun bi-dimensionnels, ce qui veut dire qu' ils possèdent deux axes (lignes, et colonnes). L'axe 0 représente les lignes, et l'axe 1 représente les colonnes."
   ]
  },
  {
   "cell_type": "markdown",
   "id": "official-finnish",
   "metadata": {},
   "source": [
    "Ainsi, concaténer sur l'axe 0 va \"ajouter des lignes\", c'est à dire placer b \"sous\" a."
   ]
  },
  {
   "cell_type": "code",
   "execution_count": null,
   "id": "criminal-location",
   "metadata": {},
   "outputs": [],
   "source": [
    "np.concatenate((a, b), axis=0)  # Concatenation sur le premier axe"
   ]
  },
  {
   "cell_type": "markdown",
   "id": "living-ready",
   "metadata": {},
   "source": [
    "Et concaténer sur l'axe 1 va \"ajouter des colonnes\", c'est à dire placer b \"à droite de\" a."
   ]
  },
  {
   "cell_type": "code",
   "execution_count": null,
   "id": "healthy-quarterly",
   "metadata": {},
   "outputs": [],
   "source": [
    "np.concatenate((a, b), axis=1)  # Concatenation sur le deuxième axe"
   ]
  },
  {
   "cell_type": "markdown",
   "id": "wanted-evans",
   "metadata": {},
   "source": [
    "### <span style=\"color:#011C5D\">Exercices sur les Numpy Arrays</span>"
   ]
  },
  {
   "cell_type": "markdown",
   "id": "middle-skating",
   "metadata": {},
   "source": [
    "#### <span style=\"color:#011C5D\">Exercice 1</span>\n",
    "\n",
    "Créez un array Numpy contenant les **nombres entiers de 0 à 20** (inclus) sous le type **float** de Numpy. Inverser le tableau (le dernier nombre devient le premier, ..., le premier nombre devient le dernier), puis affichez le."
   ]
  },
  {
   "cell_type": "code",
   "execution_count": null,
   "id": "burning-candy",
   "metadata": {},
   "outputs": [],
   "source": [
    "##### Rentrez votre code ici ######\n"
   ]
  },
  {
   "cell_type": "code",
   "execution_count": null,
   "id": "noble-mechanics",
   "metadata": {},
   "outputs": [],
   "source": [
    "##### Corrigé #####\n",
    "%load exercices/2_1_arrays_1.py"
   ]
  },
  {
   "cell_type": "markdown",
   "id": "optical-scale",
   "metadata": {},
   "source": [
    "#### <span style=\"color:#011C5D\">Exercice 2</span>\n",
    "\n",
    "Créez puis affichez un array Numpy de dimensions 5x5, composé de 1 sur les bords et de 0 au centre."
   ]
  },
  {
   "cell_type": "code",
   "execution_count": null,
   "id": "generic-robert",
   "metadata": {},
   "outputs": [],
   "source": [
    "##### Rentrez votre code ici ######\n"
   ]
  },
  {
   "cell_type": "code",
   "execution_count": null,
   "id": "driven-firmware",
   "metadata": {},
   "outputs": [],
   "source": [
    "##### Corrigé #####\n",
    "%load exercices/2_1_arrays_2.py"
   ]
  },
  {
   "cell_type": "code",
   "execution_count": null,
   "id": "decreased-industry",
   "metadata": {},
   "outputs": [],
   "source": [
    "# Resultat attendu :\n",
    "# [[1 1 1 1 1]\n",
    "#  [1 0 0 0 1]\n",
    "#  [1 0 0 0 1]\n",
    "#  [1 0 0 0 1]\n",
    "#  [1 1 1 1 1]]"
   ]
  },
  {
   "cell_type": "markdown",
   "id": "faced-durham",
   "metadata": {},
   "source": [
    "## <span style=\"color:#D38F00\">Félicitations !</span>\n",
    "\n",
    "Dans ce cours, vous avez découvert une **structure de données** que vous utiliserez fréquemment à l'avenir : les **Numpy arrays**.\n",
    "\n",
    "Vous êtes désormais capables de **créer** et **manipuler** ces structures, et nous allons bientôt découvrir comment les utiliser dans leur plein potentiel !"
   ]
  }
 ],
 "metadata": {
  "kernelspec": {
   "display_name": "Python 3",
   "language": "python",
   "name": "python3"
  },
  "language_info": {
   "codemirror_mode": {
    "name": "ipython",
    "version": 3
   },
   "file_extension": ".py",
   "mimetype": "text/x-python",
   "name": "python",
   "nbconvert_exporter": "python",
   "pygments_lexer": "ipython3",
   "version": "3.9.1"
  }
 },
 "nbformat": 4,
 "nbformat_minor": 5
}
