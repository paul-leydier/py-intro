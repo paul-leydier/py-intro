{
 "cells": [
  {
   "cell_type": "markdown",
   "id": "other-lingerie",
   "metadata": {},
   "source": [
    "# <center><font color=\"#D38F00\"><u>SORBONNE DATA ANALYTICS :<br/> Introduction à Python</u></font></center>"
   ]
  },
  {
   "cell_type": "code",
   "execution_count": null,
   "id": "impressed-glance",
   "metadata": {},
   "outputs": [],
   "source": [
    "import numpy as np  # Importe la librairie (a faire au début de chaque notebook)"
   ]
  },
  {
   "cell_type": "markdown",
   "id": "sitting-inside",
   "metadata": {},
   "source": [
    "Nous allons maintenant nous intéresser aux **fonctions** de Numpy, très utiles pour toutes les démarches mathématiques et scientifiques.\n",
    "\n",
    "Avant de commencer, nous allons définir deux termes qui seront réutilisés plus tard : les *fonctions scalaires* et *vectorielles* (ou *matricielles*).\n",
    "\n",
    "Une **fonction scalaire** est une fonction qui prend **un seul input** et renvoie **un seul output** (un autre nombre). Par exemple, la fonction `math.sqrt()` que nous avons utilisé plus tôt accepte un nombre et renvoie un nombre. C'est donc une fonction scalaire.\n",
    "\n",
    "Une **fonction vectorielle** (ou **matricielle**) est une fonction qui prend un **array de dimension n** et renvoie un **array de la même dimension**."
   ]
  },
  {
   "cell_type": "markdown",
   "id": "realistic-canberra",
   "metadata": {},
   "source": [
    "## <span style=\"color:#011C5D\">2.2. Les fonctions scalaires et matricielles</span>\n",
    "\n",
    "### <span style=\"color:#011C5D\">Les fonctions mathématiques standards</span>\n",
    "\n",
    "Les **fonctions mathématiques standards** sont définies dans Numpy comme des fonctions **matricielles**, mais elles peuvent être utilisées comme des fonctions scalaires.\n",
    "\n",
    "Autrement dit, peu importe la dimension de l'array en input, vous obtiendrez un array en output de la même forme."
   ]
  },
  {
   "cell_type": "markdown",
   "id": "married-citation",
   "metadata": {},
   "source": [
    "Prenons l'exemple de la fonction `np.sqrt()`, pour *square root*. Si vous lui donnez un **scalaire en input**, elle renvoiera un **scalaire en output**."
   ]
  },
  {
   "cell_type": "code",
   "execution_count": null,
   "id": "wrapped-radiation",
   "metadata": {},
   "outputs": [],
   "source": [
    "np.sqrt(2)  # Appliquee sur un scalaire, renvoie un scalaire"
   ]
  },
  {
   "cell_type": "markdown",
   "id": "alternate-worship",
   "metadata": {},
   "source": [
    "Néanmoins, si vous l'appliquez à un **array** de dimension 1 (un vecteur donc), le résultat sera un **array** de même dimension, contenant la fonction *racine carré* appliquée élément par élément."
   ]
  },
  {
   "cell_type": "code",
   "execution_count": null,
   "id": "turned-quest",
   "metadata": {},
   "outputs": [],
   "source": [
    "a = np.array([27, 13, 6, 14, 9, 8, 31, 21, 12])\n",
    "np.sqrt(a)  # Appliquee sur un array, renvoie un array"
   ]
  },
  {
   "cell_type": "markdown",
   "id": "desirable-contents",
   "metadata": {},
   "source": [
    "Toutes les **fonctions mathématiques standards** sont disponibles dans Numpy, et peuvent être utilisés en tant que fonction *matricielle* ou *scalaire*. D'ailleurs, en y refléchissant, vous vous rendrez compte qu'elles traitent simplement les scalaires comme des matrices de dimension 0."
   ]
  },
  {
   "cell_type": "code",
   "execution_count": null,
   "id": "tough-burke",
   "metadata": {},
   "outputs": [],
   "source": [
    "np.log(a)  # Logarithme Neperien"
   ]
  },
  {
   "cell_type": "code",
   "execution_count": null,
   "id": "other-pathology",
   "metadata": {},
   "outputs": [],
   "source": [
    "np.exp(a)  # Exponentielle"
   ]
  },
  {
   "cell_type": "code",
   "execution_count": null,
   "id": "operating-handy",
   "metadata": {},
   "outputs": [],
   "source": [
    "np.cos(a)  # Cosinus"
   ]
  },
  {
   "cell_type": "code",
   "execution_count": null,
   "id": "renewable-palestine",
   "metadata": {},
   "outputs": [],
   "source": [
    "a = np.array([27, 13, 6, -14, -9, -8, 0, 31, 21, 12])\n",
    "np.abs(a)  # Valeur absolue"
   ]
  },
  {
   "cell_type": "markdown",
   "id": "forced-firmware",
   "metadata": {},
   "source": [
    "### <span style=\"color:#011C5D\">Les fonctions d'aggrégation</span>\n",
    "\n",
    "Nous venons donc d'étudier des *fonctions scalaires*, qui acceptent un *input scalaire* et renvoient un *output scalaire*, et des *fonctions matricielles*, qui acceptent un *input de n-dimensions* et renvoient un *output de n-dimensions*.\n",
    "\n",
    "Vous allez maintenant découvrir un troisième type de fonctions : les **fonctions d'aggrégation**. Ces fonctions acceptent un **input matriciel**, et renvoient un **output scalaire**. Elles \"*aggrègent*\" donc des données."
   ]
  },
  {
   "cell_type": "markdown",
   "id": "hispanic-cleaning",
   "metadata": {},
   "source": [
    "De nombreuses **fonctions d'aggrégation** sont disponibles sur Numpy. Il s'agit principalement de **fonctions statistiques**, comme la somme, la moyenne, l'écart-type, le produit, le minimum, ou le maximum."
   ]
  },
  {
   "cell_type": "code",
   "execution_count": null,
   "id": "headed-wildlife",
   "metadata": {},
   "outputs": [],
   "source": [
    "np.sum(a)  # Utilise un array (a), et renvoie un scalaire (sa somme)"
   ]
  },
  {
   "cell_type": "code",
   "execution_count": null,
   "id": "limited-chaos",
   "metadata": {},
   "outputs": [],
   "source": [
    "a.sum()  # Equivalent a np.sum(a)"
   ]
  },
  {
   "cell_type": "code",
   "execution_count": null,
   "id": "incredible-running",
   "metadata": {},
   "outputs": [],
   "source": [
    "a.mean()  # Moyenne"
   ]
  },
  {
   "cell_type": "code",
   "execution_count": null,
   "id": "dutch-prairie",
   "metadata": {},
   "outputs": [],
   "source": [
    "a.std()  # Ecart-type"
   ]
  },
  {
   "cell_type": "code",
   "execution_count": null,
   "id": "electoral-syndication",
   "metadata": {},
   "outputs": [],
   "source": [
    "a.prod()  # Produit"
   ]
  },
  {
   "cell_type": "code",
   "execution_count": null,
   "id": "built-former",
   "metadata": {},
   "outputs": [],
   "source": [
    "a.min()  # Minimum"
   ]
  },
  {
   "cell_type": "code",
   "execution_count": null,
   "id": "finished-isaac",
   "metadata": {},
   "outputs": [],
   "source": [
    "a.max()  # Maximum"
   ]
  },
  {
   "cell_type": "markdown",
   "id": "native-bolivia",
   "metadata": {},
   "source": [
    "Mais vous serez aussi amenés à utiliser des fonctions d'aggrégation **non-statistiques**, comme les fonction `np.argmin()` et `np.argmax()` qui renvoient respectivement l'**index** de la valeur *minimale* et *maximale* d'un array."
   ]
  },
  {
   "cell_type": "code",
   "execution_count": null,
   "id": "twenty-karen",
   "metadata": {},
   "outputs": [],
   "source": [
    "a.argmax()  # Renvoie 7. Cela signifie que a[7] est la valeur maximal de a"
   ]
  },
  {
   "cell_type": "markdown",
   "id": "signal-state",
   "metadata": {},
   "source": [
    "Notez que vous pouvez accéder à toutes les fonctions que nous avons évoqué via la **méthode** d'un array (comme nous l'avons fait), ou via la **fonction standalone** Numpy. Ainsi, `np.sum(a)` (standalone) est strictement équivalent à `a.sum()` (méthode)."
   ]
  },
  {
   "cell_type": "code",
   "execution_count": null,
   "id": "patent-alfred",
   "metadata": {},
   "outputs": [],
   "source": [
    "print(np.sum(a))\n",
    "print(a.sum())"
   ]
  },
  {
   "cell_type": "markdown",
   "id": "promising-filename",
   "metadata": {},
   "source": [
    "### <span style=\"color:#011C5D\">Les axes d'aggrégation</span>"
   ]
  },
  {
   "cell_type": "markdown",
   "id": "waiting-situation",
   "metadata": {},
   "source": [
    "Vous utiliserez aussi toutes ces fonctions d'aggrégation sur des arrays Numpy **multi-dimensionnels**. Dans ce cas, vous pourrez préciser l'argument `axis` pour définir l'axe (le sens) dans lequel vous voulez effectuer l'opération."
   ]
  },
  {
   "cell_type": "code",
   "execution_count": null,
   "id": "incomplete-weekly",
   "metadata": {},
   "outputs": [],
   "source": [
    "a = np.array([[1, 2], [3, 4], [5, 6]])  # 2 dimensions : 3 lignes x 2 colonnes\n",
    "print(a)"
   ]
  },
  {
   "cell_type": "markdown",
   "id": "sensitive-atmosphere",
   "metadata": {},
   "source": [
    "Sur un array *bi-dimensionnel*, vous pourrez sommer dans le **sens des lignes** (donc obtenir la somme des colonnes) en précisant `axis=0`."
   ]
  },
  {
   "cell_type": "code",
   "execution_count": null,
   "id": "mature-interval",
   "metadata": {},
   "outputs": [],
   "source": [
    "a.sum(axis=0)  # axis=0 : on somme les colonnes"
   ]
  },
  {
   "cell_type": "markdown",
   "id": "subtle-scott",
   "metadata": {},
   "source": [
    "A l'inverse, si vous spécifiez `axis = 1`, vous allez sommer dans le **sens des colonnes** (donc obtenir la somme des lignes)."
   ]
  },
  {
   "cell_type": "code",
   "execution_count": null,
   "id": "focused-terry",
   "metadata": {},
   "outputs": [],
   "source": [
    "a.sum(axis=1)  # axis=1 : on somme les lignes"
   ]
  },
  {
   "cell_type": "markdown",
   "id": "interested-olympus",
   "metadata": {},
   "source": [
    "Enfin, le comportement par défaut, si vous ne spécifiez pas le paramètre `axis`, permet de sommer sur **l'ensemble des axes**."
   ]
  },
  {
   "cell_type": "code",
   "execution_count": null,
   "id": "excited-procedure",
   "metadata": {},
   "outputs": [],
   "source": [
    "a.sum()  # Si on ne precise pas le parametre axis, l'operation est appliquee sur toutes les dimensions"
   ]
  },
  {
   "cell_type": "markdown",
   "id": "expressed-horse",
   "metadata": {},
   "source": [
    "### <span style=\"color:#011C5D\">Exercices sur les fonctions Numpy</span>"
   ]
  },
  {
   "cell_type": "markdown",
   "id": "impressive-expense",
   "metadata": {},
   "source": [
    "#### <span style=\"color:#011C5D\">Exercice 1</span>\n",
    "\n",
    "Créez un array Numpy de **dimensions 10 par 20**, contenant des nombres décimaux **aléatoires** compris entre 0 et 1. Affichez cet array. Calculez la **moyenne** des **racines carrées** des nombres le composant, puis la **médiane** de ces racines carrées."
   ]
  },
  {
   "cell_type": "code",
   "execution_count": null,
   "id": "variable-texture",
   "metadata": {},
   "outputs": [],
   "source": [
    "##### Rentrez votre code ici ######\n",
    "# Créez un array Numpy de nombres aléatoires, de dimensions 10x20\n",
    "\n",
    "# Affichez cet array\n",
    "\n",
    "# Calculez les racines carrés de cet array\n",
    "\n",
    "# Affichez la moyenne des racines carrés\n",
    "\n",
    "# Affichez la médiane des racines carrés\n"
   ]
  },
  {
   "cell_type": "code",
   "execution_count": null,
   "id": "billion-denial",
   "metadata": {},
   "outputs": [],
   "source": [
    "%load exercices/2_2_fonctions_1.py"
   ]
  },
  {
   "cell_type": "markdown",
   "id": "enabling-brunswick",
   "metadata": {},
   "source": [
    "Vous maîtrisez dorénavant les grandes fonctions Numpy, et savez distinguer les fonctions scalaires et matricielles des fonctions d'aggrégation.\n",
    "\n",
    "## <span style=\"color:#D38F00\">Bravo !</span>"
   ]
  }
 ],
 "metadata": {
  "kernelspec": {
   "display_name": "Python 3",
   "language": "python",
   "name": "python3"
  },
  "language_info": {
   "codemirror_mode": {
    "name": "ipython",
    "version": 3
   },
   "file_extension": ".py",
   "mimetype": "text/x-python",
   "name": "python",
   "nbconvert_exporter": "python",
   "pygments_lexer": "ipython3",
   "version": "3.9.1"
  }
 },
 "nbformat": 4,
 "nbformat_minor": 5
}
