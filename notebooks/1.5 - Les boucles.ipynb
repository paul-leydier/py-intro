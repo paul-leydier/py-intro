{
 "cells": [
  {
   "cell_type": "markdown",
   "id": "aerial-emerald",
   "metadata": {},
   "source": [
    "# <center><span style=\"color:#D38F00\"><u>SORBONNE DATA ANALYTICS :<br/> Introduction à Python</u></span></center>"
   ]
  },
  {
   "cell_type": "markdown",
   "id": "196f9758",
   "metadata": {},
   "source": [
    "Maintenant que vous savez manipuler des **structures de données**, notamment les listes et les dictionnaires, vous allez apprendre à itérer automatiquement sur les éléments qu'elles contiennent.\n",
    "\n",
    "Pour cela, il vous faudra utiliser les boucles **for** et les boucles **while**."
   ]
  },
  {
   "cell_type": "markdown",
   "id": "deadly-central",
   "metadata": {},
   "source": [
    "## <span style=\"color:#011C5D\">1.5. Les boucles</span>"
   ]
  },
  {
   "cell_type": "markdown",
   "id": "fancy-foundation",
   "metadata": {},
   "source": [
    "### <span style=\"color:#011C5D\">Les boucles for</span>\n",
    "\n",
    "Les **boucles for** permettent de répéter un bloc de code pour chacune des variables de la *liste* ou, plus généralement, de l'*itérable* donné.\n",
    "\n",
    "La syntaxe est la suivante : `for variable in liste:`. À la suite de cette déclaration, retournez à la ligne et *indentez* le bloc de code à exécuter:\n",
    "\n",
    "```\n",
    "for variable in liste:\n",
    "    ...\n",
    "```\n",
    "\n",
    "\n",
    "À **chaque passage** dans la boucle, la variable définie prend la valeur suivante de la liste donnée.\n",
    "\n",
    "Dans l'exemple ci-dessous, c'est la variable *letter* qui prendra la valeur des éléments de la liste *vowel* un par un.\n",
    "\n",
    "L'instruction `print(letter)` est le bloc de code indenté, et est donc **exécuté** à chaque passage dans la boucle.\n"
   ]
  },
  {
   "cell_type": "code",
   "execution_count": null,
   "id": "inner-palace",
   "metadata": {},
   "outputs": [],
   "source": [
    "vowel = ['a', 'e', 'i', 'o', 'u', 'y']\n",
    "for letter in vowel:  # pour chaque élément de la liste, on parcout la boucle\n",
    "    print(letter)"
   ]
  },
  {
   "cell_type": "markdown",
   "id": "first-emperor",
   "metadata": {},
   "source": [
    "### <span style=\"color:#011C5D\">Les boucles while</span>\n",
    "\n",
    "Contrairement aux boucles *for*, les boucles **while** permettent de répéter un bloc de code tant que la condition initiale n'est pas vérifiée.\n",
    "\n",
    "Ci-dessous, nous déclarons une variable `i` égale à 0, puis une **boucle while** reposant sur la condition `i < 5`.\n",
    "\n",
    "Tant que cette condition est valide, Python exécutera le **bloc de code indenté** sous l'instruction while en boucle, jusqu'à ce que cette condition soit fausse."
   ]
  },
  {
   "cell_type": "code",
   "execution_count": null,
   "id": "accurate-avatar",
   "metadata": {},
   "outputs": [],
   "source": [
    "i = 0\n",
    "while i < 5:  # tant que i<5, on parcourt la boucle\n",
    "    print(i)\n",
    "    i = i + 1"
   ]
  },
  {
   "cell_type": "markdown",
   "id": "experienced-raleigh",
   "metadata": {},
   "source": [
    "**/!\\ Attention**, si votre condition est **toujours vraie**, vous serez dans une **boucle infinie** : votre programme exécutera la boucle sans jamais en sortir.\n",
    "\n",
    "Vous n'aurez dans ce cas plus qu'à **redémarrer le kernel** du Jupyter Notebook. Vous pouvez utiliser le bouton *interrompre le noyau* pour stopper le calcul."
   ]
  },
  {
   "cell_type": "markdown",
   "id": "d4b1943d",
   "metadata": {},
   "source": [
    "Les **boucles while** sont particulièrement utiles lorsque l'on ne sait pas combien de fois il faudra répéter une action, puisque la condition est testée à chaque passage de la boucle."
   ]
  },
  {
   "cell_type": "markdown",
   "id": "0f3e7c28",
   "metadata": {},
   "source": [
    "### <span style=\"color:#011C5D\">Les fonctions utiles</span>\n",
    "\n",
    "Python met à notre disposition des **fonctions d'itérations** qui sont très utiles quand utilisées avec les boucles for.\n",
    "\n",
    "Pour commencer, la fonction `range()` prend deux paramètres (*nombre de début* et *nombre de fin*) et renvoie un itérable qui peut être utilisé dans une boucle for.\n",
    "\n",
    "Dans l'exemple ci-dessous, nous itérons sur une range de 0 (inclus), à 5 (exclu).\n",
    "\n",
    "Attention, **le nombre de fin est exclu** de l'itérable renvoyé par la fonction range."
   ]
  },
  {
   "cell_type": "code",
   "execution_count": null,
   "id": "rubber-twelve",
   "metadata": {},
   "outputs": [],
   "source": [
    "for i in range(0, 5):  # range(0,5) revient à dire [0, 1, 2, 3, 4]\n",
    "    print(i)"
   ]
  },
  {
   "cell_type": "markdown",
   "id": "prerequisite-aviation",
   "metadata": {},
   "source": [
    "Il est aussi possible de fournir un **troisième paramètre** à la fonction range: **le pas**. Ici, nous fournissons un pas négatif, et itérons donc sur un range décroissant."
   ]
  },
  {
   "cell_type": "code",
   "execution_count": null,
   "id": "temporal-tucson",
   "metadata": {},
   "outputs": [],
   "source": [
    "for i in range(5, 0, -1):  # range(5, 0, -1) revient à dire [5, 4, 3, 2, 1]\n",
    "    print(i)"
   ]
  },
  {
   "cell_type": "markdown",
   "id": "round-technology",
   "metadata": {},
   "source": [
    "Deuxième fonction intéressante : la fonction `enumerate()`, qui permet quant à elle d'**obtenir l'index de l'itération**.\n",
    "\n",
    "Autrement dit, un nombre qui commence à 0, et qui est incrémenté de 1 à chaque passage dans la boucle."
   ]
  },
  {
   "cell_type": "code",
   "execution_count": null,
   "id": "spatial-perfume",
   "metadata": {},
   "outputs": [],
   "source": [
    "for index, letter in enumerate(vowel):\n",
    "    print(\"Lettre \" + str(index) + \" : \" + letter)"
   ]
  },
  {
   "cell_type": "markdown",
   "id": "6808e506",
   "metadata": {},
   "source": [
    "Enfin, les **dictionnaires** disposent d'une méthode `.items()` qui permet, avec une boucle for, d'**itérer** à la fois **sur les clés et sur les valeurs** d'un dictionnaire."
   ]
  },
  {
   "cell_type": "code",
   "execution_count": null,
   "id": "scenic-present",
   "metadata": {},
   "outputs": [],
   "source": [
    "my_dict = {'a': 1, 'b': 2, 'c': 3, 'd': 4}\n",
    "for key, value in my_dict.items():\n",
    "    print('key: ' + key + \", value: \" + str(value))"
   ]
  },
  {
   "cell_type": "markdown",
   "id": "80c0721d",
   "metadata": {},
   "source": [
    "### <span style=\"color:#011C5D\">Les usages fréquents</span>\n",
    "\n",
    "Nous allons maintenant observer deux usages un peu plus particuliers des boucles.\n",
    "\n",
    "Premièrement, vous pouvez tout à fait **imbriquer des boucles** les unes avec les autres.\n",
    "\n",
    "Dans l'exemple ci-dessous, à chacun des 3 passages de la boucle `for` initiale, nous itérons sur une boucle `for` *imbriquée* qui comporte elle aussi 3 passages. L'instruction `print` sera donc exécutée 9 fois au total.\n"
   ]
  },
  {
   "cell_type": "code",
   "execution_count": null,
   "id": "acting-scheduling",
   "metadata": {},
   "outputs": [],
   "source": [
    "for i in range(3):\n",
    "    for j in range(3):\n",
    "        print(\"i: \" + str(i) + \", j: \" + str(j))"
   ]
  },
  {
   "cell_type": "markdown",
   "id": "micro-motel",
   "metadata": {},
   "source": [
    "Pour ce qui est du second usage, sachez que **la syntaxe** des boucles for peut-être **simplifiée** quand elle renvoie une liste via ce que nous appelons une **list comprehension**.\n",
    "\n",
    "La syntaxe est la suivante : `[variable for variable in liste]`.\n",
    "\n",
    "Grâce à cette syntaxe, vous pouvez très facilement **appliquer une opération** à **tous les éléments** d'une liste."
   ]
  },
  {
   "cell_type": "markdown",
   "id": "f161318b",
   "metadata": {},
   "source": [
    "Ici, nous créons une seconde liste à partir d'une liste initiale. La seconde liste contiendra tous les nombres de la première liste mis au carré."
   ]
  },
  {
   "cell_type": "code",
   "execution_count": null,
   "id": "active-occasions",
   "metadata": {},
   "outputs": [],
   "source": [
    "my_list = [1, 2, 3, 4, 5, 6, 7, 8, 9, 10]\n",
    "my_squared_list = [i ** 2 for i in my_list]  # list comprehension\n",
    "print(my_squared_list)"
   ]
  },
  {
   "cell_type": "markdown",
   "id": "clear-vacuum",
   "metadata": {},
   "source": [
    "### <span style=\"color:#011C5D\">Exercices sur les boucles</span>"
   ]
  },
  {
   "cell_type": "markdown",
   "id": "married-protection",
   "metadata": {},
   "source": [
    "#### <span style=\"color:#011C5D\">Exercice 1</span>\n",
    "\n",
    "Afficher tous les nombres entre 1500 et 2700 (inclus) qui sont à la fois multiples de 5 et de 7.\n",
    "\n",
    "Astuce: Si vous ne savez pas comment effectuer une action (par exemple, savoir si un nombre est multiple d'un autre), **cherchez sur internet**."
   ]
  },
  {
   "cell_type": "code",
   "execution_count": null,
   "id": "sophisticated-judgment",
   "metadata": {},
   "outputs": [],
   "source": [
    "##### Rentrez votre code ici ######\n"
   ]
  },
  {
   "cell_type": "markdown",
   "id": "34b343b7",
   "metadata": {},
   "source": [
    "Résultat attendu (coupé) :\n",
    "\n",
    "```\n",
    "1505\n",
    "1540\n",
    "1575\n",
    "1610\n",
    "...\n",
    "2590\n",
    "2625\n",
    "2660\n",
    "2695\n",
    "```"
   ]
  },
  {
   "cell_type": "code",
   "execution_count": null,
   "id": "subtle-contribution",
   "metadata": {
    "cellView": "form"
   },
   "outputs": [],
   "source": [
    "#@title Cliquez ici pour la solution.\n",
    "\n",
    "for i in range(1500, 2701):\n",
    "    if i % 7 == 0 and i % 5 == 0:  # Est-ce que i est multiple de 7 et de 5 ?\n",
    "        print(i)"
   ]
  },
  {
   "cell_type": "markdown",
   "id": "pregnant-operator",
   "metadata": {},
   "source": [
    "#### <span style=\"color:#011C5D\">Exercice 2</span>\n",
    "\n",
    "Utilisez deux boucles imbriquées successives pour afficher le dessin suivant :\n",
    "```\n",
    "* \n",
    "* * \n",
    "* * * \n",
    "* * * * \n",
    "* * * * * \n",
    "* * * * \n",
    "* * * \n",
    "* * \n",
    "*\n",
    "```\n",
    "\n",
    "Astuce 1: Vous pouvez utiliser le paramètre *end=\"\"* avec la fonction print pour ne pas retourner à la ligne. Exemple :\n",
    "print(\"* \", end='')\n",
    "\n",
    "Astuce 2: Affichez les 5 premières lignes du dessin grâce à des boucles imbriquées. Puis, affichez les dernières lignes grâce à d'autres boucles imbriquées."
   ]
  },
  {
   "cell_type": "code",
   "execution_count": null,
   "id": "monetary-andrew",
   "metadata": {},
   "outputs": [],
   "source": [
    "##### Rentrez votre code ici ######\n"
   ]
  },
  {
   "cell_type": "code",
   "execution_count": null,
   "id": "south-butter",
   "metadata": {
    "cellView": "form"
   },
   "outputs": [],
   "source": [
    "#@title Cliquez ici pour la solution.\n",
    "\n",
    "# On itere normalement\n",
    "for i in range(1, 5):\n",
    "    for j in range(i):\n",
    "        print(\"* \", end='')\n",
    "    print(\"\")  # Retour a la ligne\n",
    "\n",
    "# On itere a l'envers\n",
    "for i in range(5, 0, -1):\n",
    "    for j in range(i):\n",
    "        print(\"* \", end='')\n",
    "    print(\"\")  # Retour a la ligne"
   ]
  },
  {
   "cell_type": "markdown",
   "id": "toxic-baghdad",
   "metadata": {},
   "source": [
    "#### <span style=\"color:#011C5D\">Exercice 3</span>\n",
    "\n",
    "Utilisez la fonction `randint()` pour générer un nombre entre 0 et 10 aléatoirement, affecté à i. Affichez ce nombre et recommencez tant que le nombre n'est pas inférieur à 2.\n",
    "\n",
    "Astuces :\n",
    "- randint prend pour paramètres le nombre minimal (inclus), et le nombre maximal (non inclus) qu'il est possible de tirer aléatoirement.\n",
    "- instanciez i avec une valeur supérieure à 2 avant de lancer votre boucle"
   ]
  },
  {
   "cell_type": "code",
   "execution_count": null,
   "id": "clear-drinking",
   "metadata": {},
   "outputs": [],
   "source": [
    "# Nous expliquerons cette ligne dans le chapitre suivant, sur les fonctions\n",
    "from random import randint\n",
    "\n",
    "# Exemple d'utilisation de randint :\n",
    "print(randint(0, 11))"
   ]
  },
  {
   "cell_type": "code",
   "execution_count": null,
   "id": "sacred-controversy",
   "metadata": {},
   "outputs": [],
   "source": [
    "##### Rentrez votre code ici ######\n"
   ]
  },
  {
   "cell_type": "code",
   "execution_count": null,
   "id": "suited-affiliation",
   "metadata": {
    "cellView": "form"
   },
   "outputs": [],
   "source": [
    "#@title Cliquez ici pour la solution.\n",
    "\n",
    "i = 10\n",
    "# La boucle while est utile car on ne sait pas combien de tentatives seront necessaires\n",
    "while i >= 2:\n",
    "    i = randint(0, 11)\n",
    "    print(i)"
   ]
  },
  {
   "cell_type": "markdown",
   "id": "14c6b428",
   "metadata": {},
   "source": [
    "## <span style=\"color:#D38F00\">Bravo !</span>\n",
    "\n",
    "Vous êtes désormais capables d'exécuter plusieurs fois les mêmes lignes de codes suivant la situation de votre programme via les boucles **while** et **for**, mais aussi d'**intéragir automatiquement** avec tous les éléments de vos **structures de données**, peu importe leur taille !"
   ]
  }
 ],
 "metadata": {
  "kernelspec": {
   "display_name": "Python 3 (ipykernel)",
   "language": "python",
   "name": "python3"
  },
  "language_info": {
   "codemirror_mode": {
    "name": "ipython",
    "version": 3
   },
   "file_extension": ".py",
   "mimetype": "text/x-python",
   "name": "python",
   "nbconvert_exporter": "python",
   "pygments_lexer": "ipython3",
   "version": "3.10.4"
  }
 },
 "nbformat": 4,
 "nbformat_minor": 5
}
