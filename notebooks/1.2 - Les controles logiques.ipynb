{
 "cells": [
  {
   "cell_type": "markdown",
   "id": "affecting-hollow",
   "metadata": {},
   "source": [
    "# <center><font color=\"#D38F00\"><u>SORBONNE DATA ANALYTICS :<br/> Introduction à Python</u></font></center>"
   ]
  },
  {
   "cell_type": "markdown",
   "id": "27931d7a",
   "metadata": {},
   "source": [
    "Maintenant que vous êtes capable d'utiliser des **variables** et d'effectuer des **opérations**, nous allons passer au niveau supérieur. Pour créer un programme intéressant, il vous faudra maîtriser les **opérateurs de comparaison** et les **contrôles logiques**.\n",
    "\n",
    "Ces éléments permettront à votre programme d'**exécuter différentes lignes de code** suivant la **situation** dans laquelle il se trouve, et vous pourrez donc créer une véritable **logique**."
   ]
  },
  {
   "cell_type": "markdown",
   "id": "static-preliminary",
   "metadata": {},
   "source": [
    "## <span style=\"color:#011C5D\">1.2. Les contrôles logiques</span>"
   ]
  },
  {
   "cell_type": "markdown",
   "id": "brutal-header",
   "metadata": {},
   "source": [
    "### <span style=\"color:#011C5D\">Les opérateurs de comparaison</span>\n",
    "\n",
    "Les **opérateurs de comparaison** vous permettront, comme leur nom l'indique, de **comparer** plusieurs valeurs ou variables, en renvoyant un **booléen** que vous pourrez ensuite utiliser.\n",
    "\n",
    "En Python, les principaux opérateurs de comparaison sont les suivants :\n",
    "- `==` permet de tester l'égalité de deux valeurs.\n",
    "\n",
    "*À ne pas confondre avec l'assignation de valeur `=` simple !*"
   ]
  },
  {
   "cell_type": "code",
   "execution_count": null,
   "id": "light-berkeley",
   "metadata": {},
   "outputs": [],
   "source": [
    "1 == 1  # Renvoie True"
   ]
  },
  {
   "cell_type": "code",
   "execution_count": null,
   "id": "worst-lying",
   "metadata": {},
   "outputs": [],
   "source": [
    "1 == 3  # Renvoie False"
   ]
  },
  {
   "cell_type": "markdown",
   "id": "78293466",
   "metadata": {},
   "source": [
    "- À l'inverse, l'opérateur de comparaison `!=` (\"non-égal\") renvoie l'opposé de l'opérateur d'égalité."
   ]
  },
  {
   "cell_type": "code",
   "execution_count": null,
   "id": "engaging-complexity",
   "metadata": {},
   "outputs": [],
   "source": [
    "1 != 1  # Renvoie False"
   ]
  },
  {
   "cell_type": "code",
   "execution_count": null,
   "id": "present-redhead",
   "metadata": {},
   "outputs": [],
   "source": [
    "1 != 3  # Renvoie True"
   ]
  },
  {
   "cell_type": "markdown",
   "id": "ef22e302",
   "metadata": {},
   "source": [
    "- Les opérateurs suivants sont `<` et `>`. Ils sont exclusifs :"
   ]
  },
  {
   "cell_type": "code",
   "execution_count": null,
   "id": "canadian-twins",
   "metadata": {},
   "outputs": [],
   "source": [
    "1 < 3  # Renvoie True"
   ]
  },
  {
   "cell_type": "code",
   "execution_count": null,
   "id": "stylish-latter",
   "metadata": {},
   "outputs": [],
   "source": [
    "1 < 1  # Renvoie False"
   ]
  },
  {
   "cell_type": "markdown",
   "id": "classified-ballot",
   "metadata": {},
   "source": [
    "- Pour tester en incluant l'égalité, il faut utiliser les opérateurs `<=` et `>=`."
   ]
  },
  {
   "cell_type": "code",
   "execution_count": null,
   "id": "potential-appreciation",
   "metadata": {},
   "outputs": [],
   "source": [
    "1 <= 3  # True"
   ]
  },
  {
   "cell_type": "code",
   "execution_count": null,
   "id": "peaceful-canon",
   "metadata": {},
   "outputs": [],
   "source": [
    "1 <= 1  # True"
   ]
  },
  {
   "cell_type": "code",
   "execution_count": null,
   "id": "intensive-laundry",
   "metadata": {},
   "outputs": [],
   "source": [
    "1 <= 0  # False"
   ]
  },
  {
   "cell_type": "markdown",
   "id": "disciplinary-foster",
   "metadata": {},
   "source": [
    "De plus, sachez que les **opérateurs de comparaison** peuvent être appliqués sur d'**autres types** que les types numériques.\n",
    "\n",
    "Il vous est ainsi possible de comparer deux chaînes de caractères:"
   ]
  },
  {
   "cell_type": "code",
   "execution_count": null,
   "id": "legislative-investment",
   "metadata": {},
   "outputs": [],
   "source": [
    "'abc' == 'abcd'  # False"
   ]
  },
  {
   "cell_type": "code",
   "execution_count": null,
   "id": "2a48be49",
   "metadata": {},
   "outputs": [],
   "source": [
    "'abc' == 'abc'  # True"
   ]
  },
  {
   "cell_type": "markdown",
   "id": "ordinary-terry",
   "metadata": {},
   "source": [
    "### <span style=\"color:#011C5D\">Les opérateurs booléens</span>\n",
    "\n",
    "Les opérateurs booléens vous permettent de combiner des valeurs booléennes, et de créer ainsi des logiques plus complexes pour votre programme.\n",
    "\n",
    "En python, vous serez amenés à utiliser les 3 opérateurs booléens suivants :\n",
    "- and\n",
    "- or\n",
    "- et not"
   ]
  },
  {
   "cell_type": "markdown",
   "id": "southeast-slide",
   "metadata": {},
   "source": [
    "L'opérateur `and` renvoie `True` si les deux booléens sur lesquels il opère sont `True`, et `False` si au moins l'un des deux est `False`."
   ]
  },
  {
   "cell_type": "code",
   "execution_count": null,
   "id": "electric-nashville",
   "metadata": {},
   "outputs": [],
   "source": [
    "True and True"
   ]
  },
  {
   "cell_type": "code",
   "execution_count": null,
   "id": "driven-cotton",
   "metadata": {},
   "outputs": [],
   "source": [
    "True and False"
   ]
  },
  {
   "cell_type": "markdown",
   "id": "eleven-paste",
   "metadata": {},
   "source": [
    "L'opérateur booléen `or`, quant à lui, renvoie `True` si au moins l'un des deux booléens vaut `True`."
   ]
  },
  {
   "cell_type": "code",
   "execution_count": null,
   "id": "jewish-certificate",
   "metadata": {},
   "outputs": [],
   "source": [
    "True or False"
   ]
  },
  {
   "cell_type": "markdown",
   "id": "faced-bowling",
   "metadata": {},
   "source": [
    "Enfin, l'opérateur `not` ne s'applique qu'à un seul booléen et vous permettra d'inverser sa valeur."
   ]
  },
  {
   "cell_type": "code",
   "execution_count": null,
   "id": "loaded-qatar",
   "metadata": {},
   "outputs": [],
   "source": [
    "not True"
   ]
  },
  {
   "cell_type": "code",
   "execution_count": null,
   "id": "brown-assault",
   "metadata": {},
   "outputs": [],
   "source": [
    "not False"
   ]
  },
  {
   "cell_type": "markdown",
   "id": "inside-relevance",
   "metadata": {},
   "source": [
    "Il vous sera fréquent de combiner les opérateurs de comparaison et les opérateurs booléens, afin de créer des conditions bien spécifiques."
   ]
  },
  {
   "cell_type": "code",
   "execution_count": null,
   "id": "proprietary-willow",
   "metadata": {},
   "outputs": [],
   "source": [
    "x = 3\n",
    "x < 6 and x >= 0  # Combinaison de deux opérateurs de comparaison via un opérateur booléen"
   ]
  },
  {
   "cell_type": "markdown",
   "id": "liked-cookie",
   "metadata": {},
   "source": [
    "### <span style=\"color:#011C5D\">Les contrôleurs logiques</span>\n",
    "\n",
    "Grâce à ces opérateurs booléens, vous pouvez choisir d'**exécuter différentes lignes** de code suivant la situation au sein de votre programme.\n",
    "\n",
    "Pour ce faire, vous utiliserez le contrôleur logique `if`/`else`, qui permet, en fonction d'une condition booléenne, de choisir quel bloc de code exécuter."
   ]
  },
  {
   "cell_type": "markdown",
   "id": "emerging-plymouth",
   "metadata": {},
   "source": [
    "Le bloc de code ci-dessous s'exécute de la manière suivante :\n",
    "- Pour commencer, la valeur `3` est attribuée à la variable `a`\n",
    "- Puis, le contrôleur logique `if` teste la condition `a > 2`: si la condition est vraie, il exécutera le code indenté après le `if`, tandis que si la condition est fausse, il exécutera le code indenté après le `else`.\n",
    "- Étant donné que, dans notre cas, a est bien supérieur à 2, la première instruction `print` est exécutée."
   ]
  },
  {
   "cell_type": "code",
   "execution_count": null,
   "id": "mathematical-spanish",
   "metadata": {},
   "outputs": [],
   "source": [
    "a = 3\n",
    "\n",
    "if a > 2:  # Evaluation du booleen (a > 2)\n",
    "    print(\"a est supérieur à 2 !\")  # Cette ligne de code est executee\n",
    "else:\n",
    "    print(\"a n'est pas supérieur à 2 !\")  # Cette ligne de code n'est pas executee"
   ]
  },
  {
   "cell_type": "markdown",
   "id": "guilty-front",
   "metadata": {},
   "source": [
    "Essayez de modifier la valeur de **a** pour observer le comportement de l'extrait de code précédent."
   ]
  },
  {
   "cell_type": "markdown",
   "id": "pursuant-mailman",
   "metadata": {},
   "source": [
    "Enfin, le **contrôleur logique** `if`/`else` accepte aussi un troisième membre: `elif` (la contraction de \"else if\").\n",
    "\n",
    "Dans notre exemple précédent, nous pouvons ajouter une condition `elif` qui évaluera l'expression `a == 2`. La ligne de code indentée dans le bloc `elif`, ne sera exécutée que si la première condition du if (`a > 2`) est fausse, et que la condition du elif (`a == 2`) est vraie."
   ]
  },
  {
   "cell_type": "code",
   "execution_count": null,
   "id": "protected-victoria",
   "metadata": {},
   "outputs": [],
   "source": [
    "a = 2\n",
    "\n",
    "if a > 2:  # Evaluation du booleen (a > 2)\n",
    "    print(\"a est supérieur à 2 !\")  # Cette instruction n'est pas executee\n",
    "elif a == 2:  # Evaluation du booleen (a == 2)\n",
    "    print(\"a est égal à 2 !\")  # Cette instruction est executee\n",
    "else:\n",
    "    print(\"a n'est pas supérieur à 2 !\")  # Cette ligne de code n'est pas executee"
   ]
  },
  {
   "cell_type": "markdown",
   "id": "ecological-hungary",
   "metadata": {},
   "source": [
    "Dans le cas ou la variable a vaut 2, le bloc elif est bien exécuté."
   ]
  },
  {
   "cell_type": "markdown",
   "id": "fundamental-headset",
   "metadata": {},
   "source": [
    "### <span style=\"color:#011C5D\">Exercice sur les contrôleurs logiques</span>"
   ]
  },
  {
   "cell_type": "markdown",
   "id": "alpha-rubber",
   "metadata": {},
   "source": [
    "Convertissez une température fournie en degrés Celsius ou Fahrenheit en l'autre unité.\n",
    "\n",
    "Dans la cellule ci-dessous, deux variables sont définies : \n",
    "- **temperature** qui contiendra un int représentant la température à convertir, et \n",
    "- **unit** qui contiendra l'unité de la température à convertir (\"C\", \"Celsius\", \"F\", \"Fahrenheit\" sont des valeurs possibles\n",
    "\n",
    "Utilisez des contrôleurs logiques pour convertir ces variables dans la deuxième unité.\n",
    "\n",
    "L'équation de conversion est la suivante : $\\frac{C}{5} = \\frac{F-32}{9}$"
   ]
  },
  {
   "cell_type": "code",
   "execution_count": null,
   "id": "proof-positive",
   "metadata": {},
   "outputs": [],
   "source": [
    "temperature = 30\n",
    "unit = \"Celsius\"\n",
    "\n",
    "##### Rentrez votre code ici ######\n",
    "# Testez la valeur de la variable \"unit\"\n",
    "\n",
    "    # Si il s'agit de Celsius, affichez la valeur convertie en Fahrenheit\n",
    "\n",
    "    # Si il s'agit de Fahrenheit, affichez la valeur convertie en Celsius\n",
    "    "
   ]
  },
  {
   "cell_type": "markdown",
   "id": "vital-campaign",
   "metadata": {},
   "source": [
    "Résultat attendu :\n",
    "\n",
    "```\n",
    "30 Celsius correspond à 86.0 Fahrenheit.\n",
    "```\n",
    "\n",
    "Puis, si vous modifiez la variable `unit` avec la valeur \"F\" :\n",
    "```\n",
    "30 Fahrenheit correspond à -1.1111111111111112 Celsius.\n",
    "```"
   ]
  },
  {
   "cell_type": "code",
   "execution_count": null,
   "id": "dental-thread",
   "metadata": {
    "cellView": "form"
   },
   "outputs": [],
   "source": [
    "#@title Cliquez ici pour la solution.\n",
    "\n",
    "if unit == \"Celsius\" or unit == \"C\":\n",
    "    new_temperature = (9 * temperature) / 5 + 32\n",
    "    print(str(temperature) + \" Celsius correspond à \" + str(new_temperature) + \" Fahrenheit.\")\n",
    "elif unit == \"Fahrenheit\" or unit == \"F\":\n",
    "    new_temperature = (temperature - 32) * 5 / 9\n",
    "    print(str(temperature) + \" Fahrenheit correspond à \" + str(new_temperature) + \" Celsius.\")"
   ]
  },
  {
   "cell_type": "markdown",
   "id": "sporting-gibraltar",
   "metadata": {},
   "source": [
    "Vous savez maintenant **exécuter différentes lignes** de codes suivant une logique booléenne simple, et êtes aussi capables de combiner ces conditions afin d'implémenter une **logique plus complexe** au sein de votre programme.\n",
    "\n",
    "## <span style=\"color:#D38F00\">Bravo !</span>\n",
    "\n",
    "Vous allez maintenant mettre ces nouvelles compétences en pratique !"
   ]
  }
 ],
 "metadata": {
  "kernelspec": {
   "display_name": "Python 3 (ipykernel)",
   "language": "python",
   "name": "python3"
  },
  "language_info": {
   "codemirror_mode": {
    "name": "ipython",
    "version": 3
   },
   "file_extension": ".py",
   "mimetype": "text/x-python",
   "name": "python",
   "nbconvert_exporter": "python",
   "pygments_lexer": "ipython3",
   "version": "3.10.4"
  }
 },
 "nbformat": 4,
 "nbformat_minor": 5
}
