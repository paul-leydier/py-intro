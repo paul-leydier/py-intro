{
 "cells": [
  {
   "cell_type": "markdown",
   "id": "aerial-emerald",
   "metadata": {},
   "source": [
    "# <center><span style=\"color:#D38F00\"><u>SORBONNE DATA ANALYTICS :<br/> Introduction à Python</u></span></center>"
   ]
  },
  {
   "cell_type": "markdown",
   "id": "innovative-voluntary",
   "metadata": {},
   "source": [
    "Après avoir étudié les listes, nous allons maintenant rencontrer un deuxième type de structure de données : **les dictionnaires**.\n",
    "\n",
    "Les dictionnaires, qui sont aussi appelés \"*map*\" dans d'autres langages de programmation, sont très utiles pour représenter les liens entre plusieurs valeurs."
   ]
  },
  {
   "cell_type": "markdown",
   "id": "chubby-macro",
   "metadata": {},
   "source": [
    "## <span style=\"color:#011C5D\">1.4. Les dictionnaires</span>"
   ]
  },
  {
   "cell_type": "markdown",
   "id": "convinced-sheriff",
   "metadata": {},
   "source": [
    "### <span style=\"color:#011C5D\">La déclaration</span>\n",
    "\n",
    "En effet, un dictionnaire permet de stocker des données sous la forme de **paires clé/valeur** (*key/value* en anglais).\n",
    "\n",
    "La syntaxe de déclaration d'un dictionnaire utilise des accolades `{}` (ou \"*curly brackets*\") et contient les paires clé-valeur du dictionnaire, séparées par des virgules."
   ]
  },
  {
   "cell_type": "markdown",
   "id": "australian-american",
   "metadata": {},
   "source": [
    "Dans l'exemple ci-dessous, la chaîne de caractère \"first name\" est une clé, à laquelle correspond la chaîne de caractère \"Gael\"."
   ]
  },
  {
   "cell_type": "code",
   "execution_count": null,
   "id": "southeast-girlfriend",
   "metadata": {},
   "outputs": [],
   "source": [
    "player = {\"first name\": \"Gaël\", \"last name\": \"Fickou\", \"age\": 27}\n",
    "player"
   ]
  },
  {
   "cell_type": "markdown",
   "id": "african-complaint",
   "metadata": {},
   "source": [
    "### <span style=\"color:#011C5D\">L'accession</span>\n",
    "\n",
    "Vous pouvez lire une valeur en utilisant l'**accesseur** crochet `[]`, comme pour les listes, mais cette fois-ci en précisant **l'une des clés** du dictionnaire plutôt qu'un index de la liste.\n",
    "\n",
    "La ligne de code `player['age']` renvoie donc la valeur associée à la clé *age*, qui est l'integer *27*."
   ]
  },
  {
   "cell_type": "code",
   "execution_count": null,
   "id": "precise-ethics",
   "metadata": {},
   "outputs": [],
   "source": [
    "player[\"age\"]  # renvoie la valeur associée à la clé \"age\""
   ]
  },
  {
   "cell_type": "markdown",
   "id": "burning-agreement",
   "metadata": {},
   "source": [
    "### <span style=\"color:#011C5D\">La modification</span>\n",
    "\n",
    "Pour **ajouter un couple clé-valeur** à un dictionnaire, la syntaxe est similaire : précisez une nouvelle clé dans l'accesseur, et utilisez la syntaxe d'attribution de valeur classique avec le signe \"égal\" `=`, ainsi que la valeur correspondante."
   ]
  },
  {
   "cell_type": "code",
   "execution_count": null,
   "id": "better-injury",
   "metadata": {},
   "outputs": [],
   "source": [
    "player[\"team\"] = \"Racing 92\"  # Ajoute la valeur \"Racing 92\" associée à la clé \"team\"\n",
    "player"
   ]
  },
  {
   "cell_type": "markdown",
   "id": "reserved-subscriber",
   "metadata": {},
   "source": [
    "Si les **valeurs** peuvent contenir *n'importe quel objet Python*, les **clés**, elles *ne peuvent pas contenir d'objets mutables* (comme les listes).\n",
    "\n",
    "De plus, **les clés d'un dictionnaire sont uniques**."
   ]
  },
  {
   "cell_type": "markdown",
   "id": "collaborative-voltage",
   "metadata": {},
   "source": [
    "Ainsi, si vous tentez d'insérer une paire clé-valeur avec une clé déjà présente dans le dictionnaire, vous allez **écraser la paire existante**.\n",
    "\n",
    "Dans l'exemple ci-dessous, nous modifions la valeur de la clé *team* : nous avons remplacé la valeur précédente \"*Racing 92*\" par la nouvelle valeur \"*Toulon*\"."
   ]
  },
  {
   "cell_type": "code",
   "execution_count": null,
   "id": "boring-leave",
   "metadata": {},
   "outputs": [],
   "source": [
    "player[\"team\"] = \"Toulon\"  # Ecrase la valeur de la clé \"team\" par la nouvelle valeur \"Toulon\"\n",
    "player"
   ]
  },
  {
   "cell_type": "markdown",
   "id": "equipped-companion",
   "metadata": {},
   "source": [
    "### <span style=\"color:#011C5D\">La manipulation des dictionnaires</span>\n",
    "\n",
    "Vous serez souvent amenés à utiliser quelques fonctions utilitaires en lien avec les dictionnaires.\n",
    "\n",
    "Premièrement, vous pouvez **obtenir toutes les clés** d'un dictionnaire en utilisant la méthode `.keys()` du dictionnaire."
   ]
  },
  {
   "cell_type": "code",
   "execution_count": null,
   "id": "compressed-franchise",
   "metadata": {},
   "outputs": [],
   "source": [
    "player.keys()"
   ]
  },
  {
   "cell_type": "markdown",
   "id": "eleven-offset",
   "metadata": {},
   "source": [
    "De manière similaire, la méthode `.values()` vous permettra de récupérer **toutes les valeurs** du dictionnaire."
   ]
  },
  {
   "cell_type": "code",
   "execution_count": null,
   "id": "wrong-adaptation",
   "metadata": {},
   "outputs": [],
   "source": [
    "player.values()"
   ]
  },
  {
   "cell_type": "markdown",
   "id": "patent-diamond",
   "metadata": {},
   "source": [
    "De plus, si vous souhaitez **supprimer** un couple clé-valeur d'un dictionnaire, vous pouvez utiliser, comme pour les listes, le mot-clé `del`.\n",
    "\n",
    "Dans l'exemple ci-dessous, nous supprimons la clé *team* et la valeur associée du dictionnaire *player*."
   ]
  },
  {
   "cell_type": "code",
   "execution_count": null,
   "id": "thrown-norfolk",
   "metadata": {},
   "outputs": [],
   "source": [
    "del(player[\"team\"])\n",
    "player"
   ]
  },
  {
   "cell_type": "markdown",
   "id": "double-respondent",
   "metadata": {},
   "source": [
    "Enfin, il est possible de **tester** si une clé est **présente** dans un dictionnaire avec le mot-clé `in`.\n",
    "\n",
    "Nous testons ci-dessous si la clé \"*age*\" est présente dans le dictionnaire player."
   ]
  },
  {
   "cell_type": "code",
   "execution_count": null,
   "id": "early-atlanta",
   "metadata": {},
   "outputs": [],
   "source": [
    "\"age\" in player"
   ]
  },
  {
   "cell_type": "markdown",
   "id": "searching-suggestion",
   "metadata": {},
   "source": [
    "Vous pouvez ainsi créer de la logique au sein de votre programme.\n",
    "\n",
    "L'exemple ci-dessous vous permet d'afficher la valeur correspondante à la clé *age*, à condition que celle-ci soit bien présente dans votre dictionnaire *player*."
   ]
  },
  {
   "cell_type": "code",
   "execution_count": null,
   "id": "quiet-contrast",
   "metadata": {},
   "outputs": [],
   "source": [
    "if \"age\" in player:\n",
    "    print(player[\"age\"])"
   ]
  },
  {
   "cell_type": "markdown",
   "id": "public-footwear",
   "metadata": {},
   "source": [
    "### <span style=\"color:#011C5D\">Exercice sur les dictionnaires</span>"
   ]
  },
  {
   "cell_type": "markdown",
   "id": "generic-gilbert",
   "metadata": {},
   "source": [
    "| Keys | Values |\n",
    "| --- |--- |\n",
    "| Brand | Renault |\n",
    "| Model | Clio 3  |\n",
    "| Fuel |Gasoil|\n",
    "\n",
    "En utilisant le tableau ci-dessus :\n",
    "- Créez un dictionnaire *car* qui contient les clés / valeurs listées, puis affichez le en entier (en utilisant la fonction print)\n",
    "- Affichez uniquement le modèle de la voiture\n",
    "- Affichez toutes les clés du dictionnaire\n",
    "- La voiture est de couleur grise. Ajoutez cette information au sein du dictionnaire !"
   ]
  },
  {
   "cell_type": "code",
   "execution_count": null,
   "id": "manufactured-desert",
   "metadata": {
    "scrolled": true
   },
   "outputs": [],
   "source": [
    "##### Rentrez votre code ici ######\n",
    "\n",
    "# Créez un dictionnaire *car* qui contient les clés / valeurs listées,\n",
    "# puis affichez le en entier (en utilisant la fonction print)\n",
    "\n",
    "# Affichez uniquement le modèle de la voiture\n",
    "\n",
    "# Affichez toutes les clés du dictionnaire\n",
    "\n",
    "# La voiture est de couleur grise. \n",
    "# Ajoutez cette information au sein du dictionnaire !"
   ]
  },
  {
   "cell_type": "markdown",
   "id": "consecutive-extraction",
   "metadata": {},
   "source": [
    "Résultat attendu :\n",
    "\n",
    "```\n",
    "{'Brand': 'Renault', 'Model': 'Clio 3', 'Fuel': 'Gasoil'}\n",
    "Clio 3\n",
    "dict_keys(['Brand', 'Model', 'Fuel'])\n",
    "{'Brand': 'Renault', 'Model': 'Clio 3', 'Fuel': 'Gasoil', 'color': 'grey'}\n",
    "```"
   ]
  },
  {
   "cell_type": "code",
   "execution_count": null,
   "id": "northern-creek",
   "metadata": {
    "cellView": "form"
   },
   "outputs": [],
   "source": [
    "#@title Cliquez ici pour la solution.\n",
    "\n",
    "# Créez un dictionnaire *car* qui contient les clés / valeurs listées,\n",
    "# puis affichez le en entier (en utilisant la fonction print)\n",
    "car = {\"Brand\": \"Renault\", \"Model\": \"Clio 3\", \"Fuel\": \"Gasoil\"}\n",
    "print(car)\n",
    "\n",
    "# Affichez uniquement le modèle de la voiture\n",
    "print(car[\"Model\"])\n",
    "\n",
    "# Affichez toutes les clés du dictionnaire\n",
    "print(car.keys())\n",
    "\n",
    "# La voiture est de couleur grise. \n",
    "# Ajoutez cette information au sein du dictionnaire !\n",
    "car[\"color\"] = \"grey\"\n",
    "print(car)"
   ]
  },
  {
   "cell_type": "markdown",
   "id": "visible-practitioner",
   "metadata": {},
   "source": [
    "## <span style=\"color:#D38F00\">Bravo !</span>\n",
    "\n",
    "Vous savez à présent déclarer, utiliser, et manipuler deux structures de données en Python : les listes, et les **dictionnaires**."
   ]
  }
 ],
 "metadata": {
  "kernelspec": {
   "display_name": "Python 3 (ipykernel)",
   "language": "python",
   "name": "python3"
  },
  "language_info": {
   "codemirror_mode": {
    "name": "ipython",
    "version": 3
   },
   "file_extension": ".py",
   "mimetype": "text/x-python",
   "name": "python",
   "nbconvert_exporter": "python",
   "pygments_lexer": "ipython3",
   "version": "3.10.4"
  }
 },
 "nbformat": 4,
 "nbformat_minor": 5
}
