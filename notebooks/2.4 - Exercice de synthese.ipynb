{
 "cells": [
  {
   "cell_type": "markdown",
   "id": "musical-barbados",
   "metadata": {},
   "source": [
    "# <center><span style=\"color:#D38F00\"><u>SORBONNE DATA ANALYTICS :<br/> Introduction à Python</u></span></center>"
   ]
  },
  {
   "cell_type": "markdown",
   "id": "important-antigua",
   "metadata": {},
   "source": [
    "## <span style=\"color:#011C5D\">2.4. Exercice de synthèse</span>"
   ]
  },
  {
   "cell_type": "markdown",
   "id": "surprised-powder",
   "metadata": {},
   "source": [
    "Utilisez la [Méthode de Monte Carlo](https://fr.wikipedia.org/wiki/M%C3%A9thode_de_Monte-Carlo#D%C3%A9termination_de_la_valeur_de_%CF%80) pour estimer la valeur de $\\pi$.\n",
    "![Monte Carlo for pi](https://upload.wikimedia.org/wikipedia/commons/8/84/Pi_30K.gif)\n",
    "\n",
    "Concrètement, définissez une fonction prenant en argument un entier *n*, et renvoyant une estimation de la valeur de $\\pi$ en appliquant la méthode de Monte Carlo pour *n* points aléatoires.\n",
    "\n",
    "Astuce :\n",
    "\n",
    "La méthodologie est la suivante :\n",
    "- Tirez n points aléatoires (selon une loi uniforme) aux coordonnées x, y compris entre 0 et 1\n",
    "- Déterminez le nombre de points faisant partie du cercle de centre (0, 0) et de rayon 1 (c'est-à-dire qui satisfassent la condition $x^2 + y^2 \\leq 1$)\n",
    "- Etant donnée que la probabilité qu'un point fasse partie du cercle vaut $\\frac{\\pi}{4}$, on peut estimer la valeur de $\\pi$ à $\\pi \\approx \\frac{ncircle}{n} \\times 4$"
   ]
  },
  {
   "cell_type": "code",
   "execution_count": null,
   "id": "reduced-victoria",
   "metadata": {},
   "outputs": [],
   "source": [
    "import numpy as np\n",
    "##### Rentrez votre code ici ######\n"
   ]
  },
  {
   "cell_type": "code",
   "execution_count": null,
   "id": "educated-forum",
   "metadata": {},
   "outputs": [],
   "source": [
    "%load exercices/2_exercise.py"
   ]
  },
  {
   "cell_type": "code",
   "execution_count": null,
   "id": "african-snapshot",
   "metadata": {},
   "outputs": [],
   "source": [
    "# Résultat attendu\n",
    "estimate_pi(10000000)  # Should return a number close to pi (3.14...)"
   ]
  },
  {
   "cell_type": "markdown",
   "id": "moving-bennett",
   "metadata": {},
   "source": [
    "Pour aller plus loin :\n",
    "- [Documentation de Numpy](https://numpy.org/learn/)\n",
    "- [100 Exercices Numpy](https://github.com/rougier/numpy-100/blob/master/100_Numpy_exercises_with_hints.md)"
   ]
  }
 ],
 "metadata": {
  "kernelspec": {
   "display_name": "Python 3",
   "language": "python",
   "name": "python3"
  },
  "language_info": {
   "codemirror_mode": {
    "name": "ipython",
    "version": 3
   },
   "file_extension": ".py",
   "mimetype": "text/x-python",
   "name": "python",
   "nbconvert_exporter": "python",
   "pygments_lexer": "ipython3",
   "version": "3.9.1"
  }
 },
 "nbformat": 4,
 "nbformat_minor": 5
}
