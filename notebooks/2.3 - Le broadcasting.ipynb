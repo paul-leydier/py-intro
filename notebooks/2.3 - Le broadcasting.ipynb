{
 "cells": [
  {
   "cell_type": "markdown",
   "id": "basic-beijing",
   "metadata": {},
   "source": [
    "# <center><span style=\"color:#D38F00\"><u>SORBONNE DATA ANALYTICS :<br/> Introduction à Python</u></span></center>"
   ]
  },
  {
   "cell_type": "code",
   "execution_count": null,
   "id": "protected-alaska",
   "metadata": {},
   "outputs": [],
   "source": [
    "import numpy as np  # Importe la librairie (a faire de chaque notebook)"
   ]
  },
  {
   "cell_type": "markdown",
   "id": "coral-syntax",
   "metadata": {},
   "source": [
    "Nous allons maintenant étudier en détail une fonctionnalité primordiale de Numpy : le **broadcasting**.\n",
    "\n",
    "Le **broadcasting de Numpy** est l'acte d'appliquer des **opérations** (l'*addition* par exemple) à des **matrices de dimensions différentes**.\n",
    "\n",
    "Ce concept peut vous sembler simple au premier abord, mais il est important que vous compreniez bien ce qu'il se passe derrière ce mécanisme, car vous serez amenés à l'utiliser très fréquemment."
   ]
  },
  {
   "cell_type": "markdown",
   "id": "alike-furniture",
   "metadata": {},
   "source": [
    "## <span style=\"color:#011C5D\">2.2. Le broadcasting</span>\n",
    "\n",
    "### <span style=\"color:#011C5D\">Le broadcasting scalaire</span>"
   ]
  },
  {
   "cell_type": "markdown",
   "id": "instructional-aluminum",
   "metadata": {},
   "source": [
    "En **Python natif**, c'est à dire sans utiliser de librairie tierces comme Numpy, il est **impossible** d'appliquer des opérations à des matrices."
   ]
  },
  {
   "cell_type": "markdown",
   "id": "relevant-beverage",
   "metadata": {},
   "source": [
    "Si vous essayez d'effectuer l'opération suivante par exemple, vous obtiendrez une `TypeError` car Python **ne sait pas** comment appliquer des opérateurs à une liste.\n",
    "\n",
    "Rappelez vous que, contrairement aux arrays Numpy, les listes natives de Python peuvent contenir des éléments de **types différents**."
   ]
  },
  {
   "cell_type": "code",
   "execution_count": null,
   "id": "numerical-foster",
   "metadata": {},
   "outputs": [],
   "source": [
    "height = [1.73, 1.68, 1.71, 1.89, 1.79]\n",
    "weight = [65.4, 59.2, 63.6, 88.4, 68.7]\n",
    "weight / height ** 2"
   ]
  },
  {
   "cell_type": "markdown",
   "id": "coastal-curtis",
   "metadata": {},
   "source": [
    "Si vous essayez d'appliquer **les mêmes opérations** à des **arrays Numpy**, cette fois-ci, vous obtiendrez bien le résultat attendu. Mais que ce passe-t-il exactement derrière des opérations aussi simples ?"
   ]
  },
  {
   "cell_type": "code",
   "execution_count": null,
   "id": "caroline-employee",
   "metadata": {},
   "outputs": [],
   "source": [
    "height = np.array([1.73, 1.68, 1.71, 1.89, 1.79])\n",
    "weight = np.array([65.4, 59.2, 63.6, 88.4, 68.7])\n",
    "weight / height ** 2"
   ]
  },
  {
   "cell_type": "markdown",
   "id": "coated-toddler",
   "metadata": {},
   "source": [
    "Vous l'aurez compris, c'est le **broadcasting Numpy** qui est entré en jeu. Et plus précisement, la forme la plus simple du broadcasting : le broadcasting **scalaire**.\n",
    "\n",
    "Cette fonctionnalité vous permet de combiner un **array Numpy** avec un **nombre scalaire**. Le scalaire est \"**étiré**\" jusqu'à atteindre la forme de la matrice, afin de pouvoir appliquer l'opération matricielle souhaitée."
   ]
  },
  {
   "cell_type": "code",
   "execution_count": null,
   "id": "becoming-locking",
   "metadata": {},
   "outputs": [],
   "source": [
    "a = np.array([1, 2, 3])\n",
    "b = 2\n",
    "a * b  # broadcasting"
   ]
  },
  {
   "cell_type": "markdown",
   "id": "entire-vector",
   "metadata": {},
   "source": [
    "![Scalar broadcasting example](https://numpy.org/devdocs/_images/broadcasting_1.png)\n",
    "\n",
    "Dans notre exemple, le nombre **b est étiré en matrice de la même forme que a**, c'est à dire un vecteur de trois éléments.\n",
    "\n",
    "Puis, dans un second temps, Numpy applique l'opérateur de multiplication **élément par élément** entre les deux matrices."
   ]
  },
  {
   "cell_type": "markdown",
   "id": "incorporated-sterling",
   "metadata": {},
   "source": [
    "### <span style=\"color:#011C5D\">Le broadcasting</span>"
   ]
  },
  {
   "cell_type": "markdown",
   "id": "stunning-bulletin",
   "metadata": {},
   "source": [
    "Le broadcasting scalaire est l'exemple le plus simple, mais Numpy est bien plus puissant. Vous serez souvent amenés à **appliquer des opérations** sur des **arrays de dimensions différentes**.\n",
    "\n",
    "Dans l'exemple ci-dessous, nous cherchons à **ajouter le vecteur b à la matrice a**."
   ]
  },
  {
   "cell_type": "markdown",
   "id": "downtown-static",
   "metadata": {},
   "source": [
    "![broadcasting example](https://numpy.org/devdocs/_images/broadcasting_2.png)\n",
    "\n",
    "Le broadcasting Numpy va donc considérer b comme une *ligne*, et l'*étirer* de manière à ce qu'elle fasse **la même dimension** que la matrice a, c'est à dire *4 lignes* par *3 colonnes*.\n",
    "\n",
    "Puis, Numpy va appliquer l'opérateur d'addition **élément par élément** entre les deux matrices. Le résultat final est donc une matrice **de la même forme que a**, le plus grand des deux arrays."
   ]
  },
  {
   "cell_type": "code",
   "execution_count": null,
   "id": "compound-pennsylvania",
   "metadata": {},
   "outputs": [],
   "source": [
    "a = np.array([[ 0.0,  0.0,  0.0],\n",
    "              [10.0, 10.0, 10.0],\n",
    "              [20.0, 20.0, 20.0],\n",
    "              [30.0, 30.0, 30.0]])  # shape: 4, 3\n",
    "b = np.array([1, 2, 3])  # shape: 3\n",
    "print(a + b)  # Ajoute b à chacune des lignes de a"
   ]
  },
  {
   "cell_type": "markdown",
   "id": "diverse-thing",
   "metadata": {},
   "source": [
    "Sachez de plus que le **broadcasting** s'applique aussi aux **opérateurs de comparaison**.\n",
    "\n",
    "Dans l'exemple ci-dessous, nous comparons la matrice `a` au nombre scalaire `0.5`. Vous serez fréquemment amenés à utiliser un tel broadcasting avec des opérateurs de comparaison dans le but d'effectuer des **filtres de tableaux**."
   ]
  },
  {
   "cell_type": "code",
   "execution_count": null,
   "id": "middle-sherman",
   "metadata": {},
   "outputs": [],
   "source": [
    "a = np.random.rand(10, 5)  # size: 10, 5\n",
    "print(a)\n",
    "print(a > .5)  # Comparaison d'un array a un scalaire"
   ]
  },
  {
   "cell_type": "markdown",
   "id": "returning-wagon",
   "metadata": {},
   "source": [
    "Une autre usage du **broadcasting avec opérateurs de comparaison** est l'application d'une **fonction d'aggrégation** comme `.any()` ou `.all()` pour savoir si l'un, ou bien tous les éléments d'un array répondent à une condition."
   ]
  },
  {
   "cell_type": "code",
   "execution_count": null,
   "id": "unable-clause",
   "metadata": {},
   "outputs": [],
   "source": [
    "(a > .5).any()"
   ]
  },
  {
   "cell_type": "markdown",
   "id": "filled-interface",
   "metadata": {},
   "source": [
    "### <span style=\"color:#011C5D\">Pourquoi pas de broadcasting natif ?</span>"
   ]
  },
  {
   "cell_type": "markdown",
   "id": "commercial-australian",
   "metadata": {},
   "source": [
    "Alors pourquoi Python ne permet-il pas **nativement** (sans librairie tierce) d'effectuer du broadcasting ?\n",
    "\n",
    "Eh bien sachez que le **broadcasting Numpy** est particulièrement **performant**, car il bénéficie d'une implémentation sous-jacente en **C** (un langage de programmation de bas niveau, plus complexe, mais plus performant que Python). Si nous souhaitions implémenter un *concept similaire* à l'aide les *listes natives* Python, les performances seraient bien moins élevées :"
   ]
  },
  {
   "cell_type": "code",
   "execution_count": null,
   "id": "proprietary-distinction",
   "metadata": {},
   "outputs": [],
   "source": [
    "def broadcast_addition(matrix, vector):\n",
    "    new_matrix = []\n",
    "    for row in matrix:\n",
    "        new_row = []\n",
    "        for a,b in zip(row, vector):\n",
    "            new_row.append(a + b)\n",
    "        new_matrix.append(new_row)\n",
    "    return new_matrix"
   ]
  },
  {
   "cell_type": "code",
   "execution_count": null,
   "id": "consistent-defensive",
   "metadata": {},
   "outputs": [],
   "source": [
    "native_matrix = [[1] * 100 for i in range(100)]  # Liste de liste Python, \"size\": 100, 100\n",
    "native_vector = [2] * 100  # Liste de \"size\" 100"
   ]
  },
  {
   "cell_type": "code",
   "execution_count": null,
   "id": "considerable-frank",
   "metadata": {},
   "outputs": [],
   "source": [
    "timeit broadcast_addition(native_matrix, native_vector)  # Mesure du temps d'execution de notre fonction"
   ]
  },
  {
   "cell_type": "code",
   "execution_count": null,
   "id": "comparable-genius",
   "metadata": {},
   "outputs": [],
   "source": [
    "np_matrix = np.array(native_matrix)\n",
    "np_vector = np.array(native_vector)"
   ]
  },
  {
   "cell_type": "code",
   "execution_count": null,
   "id": "digital-toddler",
   "metadata": {},
   "outputs": [],
   "source": [
    "timeit np_matrix + np_vector"
   ]
  },
  {
   "cell_type": "markdown",
   "id": "major-jesus",
   "metadata": {},
   "source": [
    "Nous pouvons ici voir, via l'utilitaire `timeit`, que Numpy est 100 fois plus performant que l'implémentation Python montrée ici."
   ]
  },
  {
   "cell_type": "markdown",
   "id": "floppy-consultation",
   "metadata": {},
   "source": [
    "Il est donc très intéressant, lorsque vous manipulez des **données volumineuses**, d'effectuer vos calculs via Numpy, son **broadcasting**, et ses fonctions matricielles ou ses fonctions d'aggrégations, dans le but de rendre vos programmes **performants** !\n",
    "\n",
    "Les **règles d'application** du broadcasting, c'est à dire comment Numpy choisit l'opération à effectuer en fonctions des caractéristiques des deux arrays qu'il reçoit, sont disponibles sur la [documentation officielle](https://numpy.org/doc/stable/user/basics.broadcasting.html#general-broadcasting-rules)."
   ]
  },
  {
   "cell_type": "markdown",
   "id": "choice-small",
   "metadata": {},
   "source": [
    "### <span style=\"color:#011C5D\">Exercices sur le broadcasting Numpy</span>"
   ]
  },
  {
   "cell_type": "markdown",
   "id": "israeli-measurement",
   "metadata": {},
   "source": [
    "#### <span style=\"color:#011C5D\">Exercice 1</span>\n",
    "\n",
    "Comme lors du premier chapitre, définissez une fonction qui renvoie la **sigmoide** d'un array passé en paramètre. Contrairement au premier chapitre, la fonction doit être capable de prendre en paramètre un array de n'importe quelle dimension ou bien un scalaire.\n",
    "\n",
    "Formule de la sigmoide : \n",
    "\n",
    "$$sigmoid(x) = \\frac{1}{1+e^{-x}}$$"
   ]
  },
  {
   "cell_type": "code",
   "execution_count": null,
   "id": "attended-plaintiff",
   "metadata": {},
   "outputs": [],
   "source": [
    "##### Rentrez votre code ici ######\n"
   ]
  },
  {
   "cell_type": "code",
   "execution_count": null,
   "id": "killing-moral",
   "metadata": {},
   "outputs": [],
   "source": [
    "%load exercices/2_3_broadcasting_1.py"
   ]
  },
  {
   "cell_type": "code",
   "execution_count": null,
   "id": "incoming-generic",
   "metadata": {},
   "outputs": [],
   "source": [
    "# Résultat attendu :\n",
    "sigmoid(np.array([1.5, 2, 2.5]))  # array([1.22313016, 1.13533528, 1.082085  ])"
   ]
  },
  {
   "cell_type": "markdown",
   "id": "angry-suite",
   "metadata": {},
   "source": [
    "#### <span style=\"color:#011C5D\">Exercice 2</span>\n",
    "\n",
    "En machine learning, l'une des étapes de base est le **preprocessing** des données. L'une des techniques fréquemments appliquées à un jeu de données est la **standardisation des valeurs numériques**, qui permet d'obtenir des colonnes ayant une moyenne de 0, et un écart-type de 1. Implémentez cette standardisation en utilisant le broadcasting Numpy.\n",
    "\n",
    "Concrètement, créez une fonction *standardize* qui permet d'appliquer la formule suivante à chacun des éléments de l'array, colonne par colonne, puis appliquez la sur `test_array` :\n",
    "\n",
    "$z = \\frac{x- \\mu}{\\sigma}$\n",
    "\n",
    "Avec :\n",
    "- z le nombre standardisé\n",
    "- x le nombre initial\n",
    "- $\\mu$ la moyenne de la colonne de x\n",
    "- $\\sigma$ l'écart-type de la colonne de x"
   ]
  },
  {
   "cell_type": "code",
   "execution_count": null,
   "id": "prescription-battle",
   "metadata": {},
   "outputs": [],
   "source": [
    "test_array = (np.random.rand(1000, 5) - .4) * 1000  # Array sur lequel vous appliquerez votre standardisation\n",
    "print(test_array)"
   ]
  },
  {
   "cell_type": "code",
   "execution_count": null,
   "id": "speaking-classroom",
   "metadata": {},
   "outputs": [],
   "source": [
    "##### Rentrez votre code ici ######\n"
   ]
  },
  {
   "cell_type": "code",
   "execution_count": null,
   "id": "nasty-filter",
   "metadata": {},
   "outputs": [],
   "source": [
    "%load exercices/2_3_broadcasting_2.py"
   ]
  },
  {
   "cell_type": "code",
   "execution_count": null,
   "id": "recognized-symposium",
   "metadata": {},
   "outputs": [],
   "source": [
    "standardize(test_array)  # Doit renvoyer un array de la même dimension que test_array"
   ]
  },
  {
   "cell_type": "markdown",
   "id": "wanted-mozambique",
   "metadata": {},
   "source": [
    "## <span style=\"color:#D38F00\">Félicitations !</span>\n",
    "\n",
    "Après avoir découvert **la syntaxe** du langage Python, vous maîtrisez maintenant les bases de la librairie **Numpy**, nottament l'utilisation d'**arrays multi-dimensionnels**, les grandes **fonctions** de la librairie, et le **broadcasting**.\n",
    "\n",
    "Il ne vous reste maintenant plus qu'une seule chose à faire : **vous entraîner** !"
   ]
  }
 ],
 "metadata": {
  "kernelspec": {
   "display_name": "Python 3",
   "language": "python",
   "name": "python3"
  },
  "language_info": {
   "codemirror_mode": {
    "name": "ipython",
    "version": 3
   },
   "file_extension": ".py",
   "mimetype": "text/x-python",
   "name": "python",
   "nbconvert_exporter": "python",
   "pygments_lexer": "ipython3",
   "version": "3.9.1"
  }
 },
 "nbformat": 4,
 "nbformat_minor": 5
}
