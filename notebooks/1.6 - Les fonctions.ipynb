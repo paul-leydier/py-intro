{
 "cells": [
  {
   "cell_type": "markdown",
   "id": "9a9f4ab0",
   "metadata": {},
   "source": [
    "# <center><span style=\"color:#D38F00\"><u>SORBONNE DATA ANALYTICS :<br/> Introduction à Python</u></span></center>"
   ]
  },
  {
   "cell_type": "markdown",
   "id": "88c0a76b",
   "metadata": {},
   "source": [
    "Pour clôturer ce premier chapitre sur **la syntaxe** de Python, nous allons étudier un nouveau concept : **les fonctions**.\n",
    "\n",
    "Une **fonction** est un bloc de code **réutilisable**, qui permet d'éviter de devoir répéter son code plusieurs fois au sein d'un même script."
   ]
  },
  {
   "cell_type": "markdown",
   "id": "better-keeping",
   "metadata": {},
   "source": [
    "## <span style=\"color:#011C5D\">1.6. Les fonctions</span>\n",
    "\n",
    "### <span style=\"color:#011C5D\">La déclaration</span>\n",
    "\n",
    "Pour déclarer une fonction, vous devrez utiliser le mot-clé `def` (pour *define*) suivi du *nom* de la fonction. Puis, entre parenthèses `()`, vous déclarerez les *arguments* (aussi appelés \"paramètres\") qui seront transférés à la fonction au moment de l'appel, séparés par des virgules. À la suite de cela, il faut placer le symbole `:`, puis *retourner à la ligne* et *indenter le bloc de code* qui constituera le corps de la fonction.\n",
    "\n",
    "```\n",
    "def my_func(arg1, arg2):\n",
    "    ...\n",
    "```"
   ]
  },
  {
   "cell_type": "markdown",
   "id": "0969ed17",
   "metadata": {},
   "source": [
    "Dans l'exemple ci-dessous, nous déclarons une fonction nommée \"*greet*\" qui accepte un paramètre \"*name*\", et affiche un message d'accueil personnalisé en fonction de ce paramètre."
   ]
  },
  {
   "cell_type": "code",
   "execution_count": null,
   "id": "6490e629",
   "metadata": {},
   "outputs": [],
   "source": [
    "# Definition de la fonction\n",
    "def greet(name):\n",
    "    print(\"Hello \" + name + \".\")"
   ]
  },
  {
   "cell_type": "markdown",
   "id": "fdb8519e",
   "metadata": {},
   "source": [
    "Pour appeler cette fonction, il vous suffira d'utiliser le nom de la fonction, et, entre parenthèses `()`, de lui passer les arguments nécessaires."
   ]
  },
  {
   "cell_type": "code",
   "execution_count": null,
   "id": "98fbb179",
   "metadata": {},
   "outputs": [],
   "source": [
    "greet(\"Paul\")"
   ]
  },
  {
   "cell_type": "markdown",
   "id": "19b85c23",
   "metadata": {},
   "source": [
    "Une fonction peut aussi **renvoyer une valeur**.\n",
    "\n",
    "Pour cela, vous devrez utiliser le mot-clé `return` dans le corps de la fonction.\n",
    "\n",
    "Ici, nous déclarons une fonction `add`, qui accepte deux paramètres : `a`, et `b`, et qui renvoie le résultat de l'addition de a et b."
   ]
  },
  {
   "cell_type": "code",
   "execution_count": null,
   "id": "upper-coalition",
   "metadata": {},
   "outputs": [],
   "source": [
    "def add(a, b):\n",
    "    return a + b\n",
    "\n",
    "# Nous avons defini une fonction nommee \"add\", qui prend comme \n",
    "# parametres \"a\" et \"b\". ELle execute le code \"a + b\" et renvoie \n",
    "# la valeur obtenue"
   ]
  },
  {
   "cell_type": "code",
   "execution_count": null,
   "id": "happy-peace",
   "metadata": {},
   "outputs": [],
   "source": [
    "add(3, 8)  # Pour appeler la fonction"
   ]
  },
  {
   "cell_type": "markdown",
   "id": "affecting-bryan",
   "metadata": {},
   "source": [
    "Les fonctions sont très utiles pour **éviter de réinventer la roue** lors de chaque nouveau script, mais aussi au sein même d'un script."
   ]
  },
  {
   "cell_type": "markdown",
   "id": "bb91bbea",
   "metadata": {},
   "source": [
    "### <span style=\"color:#011C5D\">Les fonctions standard de Python</span>"
   ]
  },
  {
   "cell_type": "markdown",
   "id": "loose-specialist",
   "metadata": {},
   "source": [
    "Python propose de nombreuses **fonctions par défaut**, et vous en avez déjà utilisé quelques-unes, comme la fonction `print()` qui affiche une chaîne de charactères dans la sortie console.\n",
    "\n",
    "Python propose donc des fonctions qui **s'appliquent sur des chaînes de caractères**, comme les fonctions `.upper()` et `.lower()` qui permettent de changer la capitalisation d'un texte.\n",
    "\n",
    "Notez que ces fonctions sont accessibles directement via un objet via l'accesseur `.` et font directement partie de l'objet `str`. Les fonctions de ce type sont aussi appelées \"*méthodes*\"."
   ]
  },
  {
   "cell_type": "code",
   "execution_count": null,
   "id": "recognized-sunglasses",
   "metadata": {},
   "outputs": [],
   "source": [
    "my_string = \"Hello world!\"\n",
    "my_string.upper()  # la fonction upper transforme tous les caracteres en majuscules"
   ]
  },
  {
   "cell_type": "code",
   "execution_count": null,
   "id": "612dbe30",
   "metadata": {},
   "outputs": [],
   "source": [
    "my_string.lower()  # la fonction lower transforme tous les caracteres en minuscules"
   ]
  },
  {
   "cell_type": "markdown",
   "id": "cbb96592",
   "metadata": {},
   "source": [
    "La méthode `replace()` permet, quant à elle, de remplacer toutes les occurrences d'une sous-string par une autre string."
   ]
  },
  {
   "cell_type": "code",
   "execution_count": null,
   "id": "prepared-compiler",
   "metadata": {},
   "outputs": [],
   "source": [
    "my_string.replace(\"l\", \"t\")  # remplace la str \"l\" par la str \"t\""
   ]
  },
  {
   "cell_type": "markdown",
   "id": "varied-database",
   "metadata": {},
   "source": [
    "---\n",
    "\n",
    "D'autres fonctions **s'appliquent sur les types numériques**, comme la fonction round qui permet d'arrondir un float."
   ]
  },
  {
   "cell_type": "code",
   "execution_count": null,
   "id": "organized-wheel",
   "metadata": {},
   "outputs": [],
   "source": [
    "round(1.7)  # permet d'arrondir"
   ]
  },
  {
   "cell_type": "markdown",
   "id": "equal-motivation",
   "metadata": {},
   "source": [
    "---\n",
    "\n",
    "Enfin, certaines fonctions de Python **s'appliquent sur des listes**, comme les fonctions `max()`, `sum()` et `index()`."
   ]
  },
  {
   "cell_type": "code",
   "execution_count": null,
   "id": "western-bahrain",
   "metadata": {},
   "outputs": [],
   "source": [
    "my_list = [1, 2, 3, 4, 3, 2, 1]\n",
    "max(my_list)"
   ]
  },
  {
   "cell_type": "code",
   "execution_count": null,
   "id": "banned-louisiana",
   "metadata": {
    "scrolled": true
   },
   "outputs": [],
   "source": [
    "sum(my_list)"
   ]
  },
  {
   "cell_type": "code",
   "execution_count": null,
   "id": "answering-oklahoma",
   "metadata": {},
   "outputs": [],
   "source": [
    "my_list = ['a', 'b', 'c', 'd', 'e', 'f']\n",
    "my_list.index('d')  # recherche une valeur dans la liste et renvoie son index"
   ]
  },
  {
   "cell_type": "markdown",
   "id": "6a755fd4",
   "metadata": {},
   "source": [
    "### <span style=\"color:#011C5D\">La documentation</span>"
   ]
  },
  {
   "cell_type": "markdown",
   "id": "477bb119",
   "metadata": {},
   "source": [
    "Alors comment savoir quelles sont les **fonctions disponibles** et **comment** les appeler ?\n",
    "\n",
    "Vous pouvez utiliser la [documentation officielle de Python](https://docs.python.org/3/).\n",
    "\n",
    "Ou bien chercher sur le meilleur outil du développeur : **Google**. En effet, il y a de grandes chances qu'un autre programmeur ait rencontré le même problème que vous, ai ait demandé de l'aide sur le web."
   ]
  },
  {
   "cell_type": "markdown",
   "id": "complicated-television",
   "metadata": {},
   "source": [
    "De plus, vous pouvez obtenir de l'**aide sur une fonction** spécifique directement dans Python. Pour celà, vous pouvez utiliser la fonction `help()`, en lui passant votre fonction en paramètre, afin d'afficher sa documentation."
   ]
  },
  {
   "cell_type": "code",
   "execution_count": null,
   "id": "stupid-withdrawal",
   "metadata": {},
   "outputs": [],
   "source": [
    "help(round)"
   ]
  },
  {
   "cell_type": "markdown",
   "id": "5c4bbf77",
   "metadata": {},
   "source": [
    "**/!\\ Attention**, notez bien que nous n'appelons pas la fonction round dans notre exemple : il n'y a pas de parenthèses après le nom de la fonction."
   ]
  },
  {
   "cell_type": "markdown",
   "id": "84129e3b",
   "metadata": {},
   "source": [
    "Enfin, **Jupyter Notebook** met à notre disposition un raccourci pour afficher cette documentation : positionnez votre curseur directement sur la fonction, dans un bloc de code, et utilisez le raccourci \"**shift tab**\"."
   ]
  },
  {
   "cell_type": "markdown",
   "id": "4dba9d29",
   "metadata": {},
   "source": [
    "### <span style=\"color:#011C5D\">Les librairies</span>"
   ]
  },
  {
   "cell_type": "markdown",
   "id": "assisted-madagascar",
   "metadata": {},
   "source": [
    "En plus des fonctions standards de Python, vous pouvez faire appel à des fonctions provenant de **librairies**.\n",
    "\n",
    "Il existe de **nombreuses librairies** codées par des développeurs qui permettent d'effectuer une multitude de tâches différentes ! C'est d'ailleurs l'une des grandes forces de Python : disposer d'un écosystème large et varié.\n",
    "\n",
    "Nous avons par exemple utilisé, lors du cours précédent sur les boucles, la fonction `randint()` de la librairie *random* pour générer un nombre aléatoire."
   ]
  },
  {
   "cell_type": "markdown",
   "id": "5c13fb6d",
   "metadata": {},
   "source": [
    "Pour utiliser une librairie, il faut d'abord l'**importer** avec le mot-clé `import`."
   ]
  },
  {
   "cell_type": "code",
   "execution_count": null,
   "id": "lasting-norman",
   "metadata": {},
   "outputs": [],
   "source": [
    "import math\n",
    "math.sqrt(9)"
   ]
  },
  {
   "cell_type": "markdown",
   "id": "a3be57d0",
   "metadata": {},
   "source": [
    "\"**math**\" est une librairie livrée par défaut avec Python, qui met à votre disposition des fonctions mathématiques, comme la fonction `sqrt()` (\"*square root*\") qui renvoie la racine carrée d'un nombre."
   ]
  },
  {
   "cell_type": "markdown",
   "id": "collected-result",
   "metadata": {},
   "source": [
    "Vous pouvez aussi, si vous le souhaitez, **importer une seule fonction** d'une librairie, en utilisant le mot-clé `from`. Par exemple `from math import sqrt` importera uniquement la fonction sqrt.\n",
    "\n",
    "Dans ce cas, il ne sera plus nécessaire de préciser le nom de la librairie avant d'appeler une fonction, puisque vous l'avez directement importé."
   ]
  },
  {
   "cell_type": "code",
   "execution_count": null,
   "id": "apparent-intranet",
   "metadata": {},
   "outputs": [],
   "source": [
    "from math import sqrt\n",
    "sqrt(9)"
   ]
  },
  {
   "cell_type": "markdown",
   "id": "4d5ff008",
   "metadata": {},
   "source": [
    "Enfin, d'autres librairies ne sont **pas livrées** directement **avec Python**. Vous devrez les **installer** via ligne de commande avec l'utilitaire de gestion de package \"*pip*\".\n",
    "\n",
    "Sous **Jupyter Notebook**, il faudra placer le signe \"%\" en début de ligne, afin que l'interpréteur comprenne qu'il s'agit d'une instruction spécifique, et non d'une ligne de code Python.\n",
    "\n",
    "`%pip install numpy` : Dans cet exemple, nous installons la librairie \"Numpy\". \n",
    "\n",
    "*Notez qu'il suffit d'installer une librairie une seule fois par ordinateur, vous n'avez pas à la réinstaller à chaque redémarrage de Jupyter Notebook.*"
   ]
  },
  {
   "cell_type": "code",
   "execution_count": null,
   "id": "fe7179d1",
   "metadata": {},
   "outputs": [],
   "source": [
    "%pip install numpy"
   ]
  },
  {
   "cell_type": "markdown",
   "id": "d19db4ae",
   "metadata": {},
   "source": [
    "Maintenant que Numpy est **installé**, nous pouvons l'**importer** et **utiliser** ses fonctions.\n",
    "\n",
    "Ci-dessous, nous utilisons la fonction \"random.randint\" qui renvoie une nombre entier entre 0 et 10."
   ]
  },
  {
   "cell_type": "code",
   "execution_count": null,
   "id": "e68fb7ff",
   "metadata": {},
   "outputs": [],
   "source": [
    "import numpy\n",
    "numpy.random.randint(10)"
   ]
  },
  {
   "cell_type": "markdown",
   "id": "olive-exhibit",
   "metadata": {},
   "source": [
    "Enfin, le mot-clé `as` permet de **renommer** en local la librairie que vous importez, afin de **simplifier la syntaxe** quand vous utiliserez ses fonctions."
   ]
  },
  {
   "cell_type": "code",
   "execution_count": null,
   "id": "unlikely-section",
   "metadata": {},
   "outputs": [],
   "source": [
    "import numpy as np  # remplace \"numpy\" par \"np\"\n",
    "np.random.randint(10)"
   ]
  },
  {
   "cell_type": "markdown",
   "id": "processed-stranger",
   "metadata": {},
   "source": [
    "### <span style=\"color:#011C5D\">Exercices sur les fonctions</span>"
   ]
  },
  {
   "cell_type": "markdown",
   "id": "advanced-invitation",
   "metadata": {},
   "source": [
    "#### <span style=\"color:#011C5D\">Exercice 1</span>\n",
    "\n",
    "Définissez une fonction `reverse` qui renvoie l'inverse d'une chaîne de caractères passée en paramètre."
   ]
  },
  {
   "cell_type": "code",
   "execution_count": null,
   "id": "40ce3f43",
   "metadata": {},
   "outputs": [],
   "source": [
    "##### Rentrez votre code ici ######\n"
   ]
  },
  {
   "cell_type": "code",
   "execution_count": null,
   "id": "passive-marijuana",
   "metadata": {},
   "outputs": [],
   "source": [
    "# Resultat attendu\n",
    "reverse(\"Hello World!\")  # \"!dlroW olleH\""
   ]
  },
  {
   "cell_type": "code",
   "execution_count": null,
   "id": "designing-riverside",
   "metadata": {},
   "outputs": [],
   "source": [
    "#@title Cliquez ici pour la solution.\n",
    "\n",
    "def reverse(string):\n",
    "    new_string = \"\"\n",
    "    # On parcourt string a l'envers, et on ajoute les lettres une \n",
    "    # par une a new_string\n",
    "    for c in range(len(string)-1, -1, -1):\n",
    "        new_string = new_string + string[c]\n",
    "    # solution avancee : new_string = string[::-1]\n",
    "    return new_string\n",
    "\n",
    "# Solution avancee :\n",
    "# def reverse(string):\n",
    "#     return string[::-1]\n",
    "\n",
    "reverse(\"Hello World!\")"
   ]
  },
  {
   "cell_type": "markdown",
   "id": "treated-share",
   "metadata": {},
   "source": [
    "#### <span style=\"color:#011C5D\">Exercice 2</span>\n",
    "\n",
    "Définissez et utilisez une fonction qui renvoie la sigmoide d'un nombre passé en paramètre.\n",
    "\n",
    "Astuce : vous pouvez utilisez une fonction exponentielle de n'importe quelle librairie (cherchez sur internet \"python exponential\") pour calculer la partie exponentielle.\n",
    "\n",
    "Formule de la sigmoide : \n",
    "\n",
    "$$sigmoid(x) = \\frac{1}{1+e^{-x}}$$"
   ]
  },
  {
   "cell_type": "code",
   "execution_count": null,
   "id": "living-celebrity",
   "metadata": {},
   "outputs": [],
   "source": [
    "##### Rentrez votre code ici ######\n"
   ]
  },
  {
   "cell_type": "code",
   "execution_count": null,
   "id": "known-chair",
   "metadata": {},
   "outputs": [],
   "source": [
    "# Resultat attendu\n",
    "sigmoid(0.5)  # 0.6224593312018546"
   ]
  },
  {
   "cell_type": "code",
   "execution_count": null,
   "id": "special-emergency",
   "metadata": {},
   "outputs": [],
   "source": [
    "#@title Cliquez ici pour la solution.\n",
    "\n",
    "from math import exp\n",
    "def sigmoid(x):\n",
    "    return 1 / (1 + exp(-x))\n",
    "\n",
    "sigmoid(0.5)"
   ]
  },
  {
   "cell_type": "markdown",
   "id": "16b59c86",
   "metadata": {},
   "source": [
    "## <span style=\"color:#D38F00\">Félicitations !</span>\n",
    "\n",
    "Vous savez désormais **définir** et **appeler** vos propres **fonctions** en Python, mais aussi des fonctions provenant de **librairies tierces**. A l'avenir, vous serez probablement amené à utiliser au quotidien des librairies comme :\n",
    "- [math](https://docs.python.org/3/library/math.html), et [scipy](https://scipy.org/) pour le calcul scientifique\n",
    "- [Numpy](https://numpy.org/) et [Pandas](https://pandas.pydata.org/) pour la manipulation de données\n",
    "- ou encore [Scikit-Learn](https://scikit-learn.org/stable/) pour le machine learning\n",
    "\n",
    "Chacune de ces librairies dispose de documentations et de tutoriels très fournis, alors n'hésitez à vous renseigner !"
   ]
  }
 ],
 "metadata": {
  "kernelspec": {
   "display_name": "Python 3",
   "language": "python",
   "name": "python3"
  },
  "language_info": {
   "codemirror_mode": {
    "name": "ipython",
    "version": 3
   },
   "file_extension": ".py",
   "mimetype": "text/x-python",
   "name": "python",
   "nbconvert_exporter": "python",
   "pygments_lexer": "ipython3",
   "version": "3.9.1"
  }
 },
 "nbformat": 4,
 "nbformat_minor": 5
}
