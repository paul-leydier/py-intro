{
 "cells": [
  {
   "cell_type": "markdown",
   "id": "entertaining-machine",
   "metadata": {},
   "source": [
    "# <center><span style=\"color:#D38F00\"><u>SORBONNE DATA ANALYTICS :<br/> Introduction à Python</u></span></center>"
   ]
  },
  {
   "cell_type": "markdown",
   "id": "tested-screening",
   "metadata": {},
   "source": [
    "# <span style=\"color:#011C5D\">1. La syntaxe du langage</span>"
   ]
  },
  {
   "cell_type": "markdown",
   "id": "ca6fc247",
   "metadata": {},
   "source": [
    "Je vous propose maintenant de rentrer dans le vif du sujet. Nous allons commencer à **développer en Python** !\n",
    "\n",
    "Comme tous les langages de programmation, Python vous permet d'utiliser des **variables**. Une variable est un objet auquel vous pouvez assigner une valeur, de manière à pouvoir la ré-utiliser plus tard."
   ]
  },
  {
   "cell_type": "markdown",
   "id": "satisfactory-dallas",
   "metadata": {},
   "source": [
    "## <span style=\"color:#011C5D\">1.1. Les variables</span>"
   ]
  },
  {
   "cell_type": "markdown",
   "id": "relative-bunny",
   "metadata": {},
   "source": [
    "### <span style=\"color:#011C5D\">La déclaration des variables</span>\n",
    "\n",
    "L'une des caractéristiques principales de Python est le **typage dynamique** qui permet de déclarer une variable sans lui attribuer de type, et de modifier ce type à volonté.\n",
    "\n",
    "Vous attribuerez une valeur à une variable via le symbole **=**. Il peut être lu comme \"*prend la valeur*\"."
   ]
  },
  {
   "cell_type": "code",
   "execution_count": null,
   "id": "naked-penetration",
   "metadata": {},
   "outputs": [],
   "source": [
    "x = 3  # x prend la valeur 3\n",
    "x  # Afficher x"
   ]
  },
  {
   "cell_type": "markdown",
   "id": "previous-manor",
   "metadata": {},
   "source": [
    "Si une même variable peut changer de type au fur et à mesure d'un programme, les types de variables sont eux bien définis, ce qui veut dire qu'ils seront traités différemment lors des différentes opérations que nous effectuerons avec eux.\n",
    "\n",
    "Vous pouvez obtenir le type d'une variable en utilisant la fonction **type()**. Par exemple, `type(x)` renverra le type `int`."
   ]
  },
  {
   "cell_type": "markdown",
   "id": "8faf3cbf",
   "metadata": {},
   "source": [
    "Les types primitifs (aussi appelés types de base) de Python sont les suivants :\n",
    "- **int**, pour *integer* (entier en anglais) permet de stocker des nombres entiers."
   ]
  },
  {
   "cell_type": "code",
   "execution_count": null,
   "id": "described-kelly",
   "metadata": {},
   "outputs": [],
   "source": [
    "x = 3\n",
    "type(x)  # x est un int: un nombre entier"
   ]
  },
  {
   "cell_type": "markdown",
   "id": "870156b8",
   "metadata": {},
   "source": [
    "- **float**, pour *floating point number* permet de stocker des nombres décimaux. Avec la ligne de code `x = 3.1`, vous stockerez donc un nombre décimal dans la variable x, et la fonction type renverra cette fois-ci le type `float`."
   ]
  },
  {
   "cell_type": "code",
   "execution_count": null,
   "id": "unlimited-allergy",
   "metadata": {},
   "outputs": [],
   "source": [
    "x = 3.1\n",
    "type(x)  # x est un float: un nombre décimal"
   ]
  },
  {
   "cell_type": "markdown",
   "id": "b19943ce",
   "metadata": {},
   "source": [
    "- Un autre type que vous utiliserez fréquemment est le type **str**, pour *character string*, qui vous permettra de stocker des chaînes de caractères (c'est à dire du texte). Avec le bloc de code `x = 'Hello world!'` vous stockez ce texte dans la variable x, et `type(x)` renvoie bien le type `str`."
   ]
  },
  {
   "cell_type": "code",
   "execution_count": null,
   "id": "short-alliance",
   "metadata": {},
   "outputs": [],
   "source": [
    "x = 'Hello world!'\n",
    "type(x)  # x est un str: une chaine de caractères"
   ]
  },
  {
   "cell_type": "markdown",
   "id": "82ecf973",
   "metadata": {},
   "source": [
    "*Notez que, en Python, vous pouvez indifférement utiliser les signes `'` et `\"` pour délimiter une chaîne de charactères. Ainsi, `\"Hello World\"` est équivalent à `'Hello World'`.*"
   ]
  },
  {
   "cell_type": "markdown",
   "id": "c850988d",
   "metadata": {},
   "source": [
    "- Enfin, **bool**, pour *boolean* n'a que deux valeurs possibles : *vrai* ou *faux*. La ligne de code `x = True` attribue la valeur \"vrai\" à la variable x, et la fonction type renverra donc le type `bool`."
   ]
  },
  {
   "cell_type": "code",
   "execution_count": null,
   "id": "parallel-italy",
   "metadata": {},
   "outputs": [],
   "source": [
    "x = True\n",
    "type(x)  # x est un bool: un booléen (vrai / faux)"
   ]
  },
  {
   "cell_type": "markdown",
   "id": "familiar-cursor",
   "metadata": {},
   "source": [
    "### <span style=\"color:#011C5D\">Les Opérateurs</span>\n",
    "\n",
    "Les **opérateurs** permettent d'appliquer des opérations sur les variables ou valeurs de votre programme.\n",
    "\n",
    "Vous utiliserez fréquemment les opérateurs suivants en Python :\n",
    "- L'opérateur `+` pour l'addition"
   ]
  },
  {
   "cell_type": "code",
   "execution_count": null,
   "id": "455626f4",
   "metadata": {},
   "outputs": [],
   "source": [
    "3 + 4"
   ]
  },
  {
   "cell_type": "markdown",
   "id": "3d1b29af",
   "metadata": {},
   "source": [
    "- L'opérateur `-` pour la soustraction"
   ]
  },
  {
   "cell_type": "code",
   "execution_count": null,
   "id": "791ca323",
   "metadata": {},
   "outputs": [],
   "source": [
    "3 - 4"
   ]
  },
  {
   "cell_type": "markdown",
   "id": "da9fcfc0",
   "metadata": {},
   "source": [
    "- `*` pour la multiplication"
   ]
  },
  {
   "cell_type": "code",
   "execution_count": null,
   "id": "e08b2a1e",
   "metadata": {},
   "outputs": [],
   "source": [
    "3 * 4"
   ]
  },
  {
   "cell_type": "markdown",
   "id": "a8482d70",
   "metadata": {},
   "source": [
    "- `/` pour la division"
   ]
  },
  {
   "cell_type": "code",
   "execution_count": null,
   "id": "789cc3d1",
   "metadata": {
    "scrolled": true
   },
   "outputs": [],
   "source": [
    "3 / 4"
   ]
  },
  {
   "cell_type": "markdown",
   "id": "8dbd7dd7",
   "metadata": {},
   "source": [
    "- Et `**` pour la puissance, *à ne pas confondre avec l'opérateur de multiplication, qui est une étoile simple*"
   ]
  },
  {
   "cell_type": "code",
   "execution_count": null,
   "id": "444e7aad",
   "metadata": {},
   "outputs": [],
   "source": [
    "3 ** 4"
   ]
  },
  {
   "cell_type": "markdown",
   "id": "9e9a4994",
   "metadata": {},
   "source": [
    "- Enfin, l'opérateur `%`, *appelé \"modulo\"*, vous permettra d'obtenir le reste de la division entière"
   ]
  },
  {
   "cell_type": "code",
   "execution_count": null,
   "id": "bb8d5167",
   "metadata": {},
   "outputs": [],
   "source": [
    "8 % 3"
   ]
  },
  {
   "cell_type": "code",
   "execution_count": null,
   "id": "b81db3fe",
   "metadata": {},
   "outputs": [],
   "source": [
    "6 % 3"
   ]
  },
  {
   "cell_type": "markdown",
   "id": "817a774a",
   "metadata": {},
   "source": [
    "Vous pouvez directement stocker le résultat d'une opération dans une variable."
   ]
  },
  {
   "cell_type": "code",
   "execution_count": null,
   "id": "confused-pressure",
   "metadata": {
    "scrolled": true
   },
   "outputs": [],
   "source": [
    "x = 3 + 4  # Attribue la valeur 7 à x\n",
    "x"
   ]
  },
  {
   "cell_type": "markdown",
   "id": "0c8c98ca",
   "metadata": {},
   "source": [
    "De plus, il est aussi possible d'*enchaîner* les opérations, auquel cas l'ordre de priorité mathématique classique s'applique. Vous pouvez modifier cet ordre de priorité en utilisant des **parenthèses**."
   ]
  },
  {
   "cell_type": "code",
   "execution_count": null,
   "id": "narrow-scottish",
   "metadata": {},
   "outputs": [],
   "source": [
    "6 + 3 * 4"
   ]
  },
  {
   "cell_type": "code",
   "execution_count": null,
   "id": "7b54d2ef",
   "metadata": {},
   "outputs": [],
   "source": [
    "(6 + 3) * 4"
   ]
  },
  {
   "cell_type": "markdown",
   "id": "major-entertainment",
   "metadata": {},
   "source": [
    "Attention, les opérateurs ont des **effets différents** selon les **types** de variables utilisées. Les opérateurs d'addition et de multiplication permettent par exemple de concaténer des chaînes de caractères.\n",
    "\n",
    "Ainsi, `'Hello ' + 'world!'` concatène ces deux chaînes de caractères pour former la chaîne `'Hello World!'`, et `'hello' * 4` concatène cette chaîne de caractère avec elle-même 4 fois."
   ]
  },
  {
   "cell_type": "code",
   "execution_count": null,
   "id": "fifteen-romantic",
   "metadata": {},
   "outputs": [],
   "source": [
    "'Hello ' + 'world!'"
   ]
  },
  {
   "cell_type": "code",
   "execution_count": null,
   "id": "studied-truck",
   "metadata": {},
   "outputs": [],
   "source": [
    "'hello_' * 4"
   ]
  },
  {
   "cell_type": "markdown",
   "id": "curious-packet",
   "metadata": {},
   "source": [
    "Enfin, vous pouvez **convertir** une variable d'un type en un autre type en lui appliquant le type souhaité comme une fonction :\n",
    "\n",
    "*\\\"56\" (entre guillemets) est une chaîne de caractères, tandis que si nous lui appliquons la fonction `int`, elle sera convertie en nombre entier.*"
   ]
  },
  {
   "cell_type": "code",
   "execution_count": null,
   "id": "banned-recommendation",
   "metadata": {},
   "outputs": [],
   "source": [
    "int(\"56\")  # conversion de la str \"56\" en int 56"
   ]
  },
  {
   "cell_type": "markdown",
   "id": "5a4b584a",
   "metadata": {},
   "source": [
    "Cet aspect est très important car si vous utilisez des opérateurs avec des types qui ne sont pas ceux que vous pensez, les résultats peuvent vous surprendre !"
   ]
  },
  {
   "cell_type": "code",
   "execution_count": null,
   "id": "moved-contributor",
   "metadata": {},
   "outputs": [],
   "source": [
    "\"56\" * 3  # str multiplié par int"
   ]
  },
  {
   "cell_type": "code",
   "execution_count": null,
   "id": "arctic-quebec",
   "metadata": {},
   "outputs": [],
   "source": [
    "int(\"56\") * 3  # int multiplié par int"
   ]
  },
  {
   "cell_type": "markdown",
   "id": "front-running",
   "metadata": {},
   "source": [
    "### <span style=\"color:#011C5D\">Exercice sur les variables</span>"
   ]
  },
  {
   "cell_type": "markdown",
   "id": "federal-bride",
   "metadata": {},
   "source": [
    "Utilisez des variables pour **calculer** et **afficher** la circonférence de la terre à partir de son rayon.\n",
    "\n",
    "Formule de la circonférence : $C = 2 \\pi r$\n",
    "\n",
    "Conseils :\n",
    "- Commencez par stocker la valeur approximative de pi (**3.141592**) dans une variable.\n",
    "- Ensuite, stockez la valeur du rayon de la Terre (**6 378km**) dans une seconde variable.\n",
    "- Finalement, déclarez une troisième variable en applicant la formule aux deux variables précédentes."
   ]
  },
  {
   "cell_type": "code",
   "execution_count": null,
   "id": "round-yacht",
   "metadata": {},
   "outputs": [],
   "source": [
    "##### Rentrez votre code ici ######\n",
    "# Stockez la valeur approximative de pi (3.141592) dans une variable\n",
    "\n",
    "# Stockez la valeur du rayon de la Terre (6 378) (en kilomètres) dans une seconde variable\n",
    "\n",
    "# Déclarez une troisième variable en applicant la formule aux deux variables précédentes\n",
    "\n",
    "# Affichez le contenu de cette dernière variable\n"
   ]
  },
  {
   "cell_type": "markdown",
   "id": "4263a3c2",
   "metadata": {},
   "source": [
    "Résultat attendu :\n",
    "```\n",
    "40074.147552\n",
    "```"
   ]
  },
  {
   "cell_type": "code",
   "execution_count": null,
   "id": "pointed-charleston",
   "metadata": {},
   "outputs": [],
   "source": [
    "#@ Cliquez ici pour la solution.\n",
    "# Stockez la valeur approximative de pi (3.141592) dans une variable\n",
    "pi = 3.141592\n",
    "\n",
    "# Stockez la valeur du rayon de la Terre (6 378) (en kilomètres) dans une seconde variable\n",
    "r = 6378\n",
    "\n",
    "# Déclarez une troisième variable en applicant la formule aux deux variables précédentes\n",
    "C = 2 * pi * r\n",
    "\n",
    "# Affichez le contenu de cette dernière variable\n",
    "C"
   ]
  },
  {
   "cell_type": "markdown",
   "id": "3be2ffe6",
   "metadata": {},
   "source": [
    "## <span style=\"color:#D38F00\">Bravo !</span>\n",
    "\n",
    "Vous êtes désormais capables de **déclarer des variables** et d'**effectuer des opérations** en utilisant les différents **types primitifs** de Python."
   ]
  }
 ],
 "metadata": {
  "kernelspec": {
   "display_name": "Python 3",
   "language": "python",
   "name": "python3"
  },
  "language_info": {
   "codemirror_mode": {
    "name": "ipython",
    "version": 3
   },
   "file_extension": ".py",
   "mimetype": "text/x-python",
   "name": "python",
   "nbconvert_exporter": "python",
   "pygments_lexer": "ipython3",
   "version": "3.8.8"
  }
 },
 "nbformat": 4,
 "nbformat_minor": 5
}
