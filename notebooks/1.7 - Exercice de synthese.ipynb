{
 "cells": [
  {
   "cell_type": "markdown",
   "id": "c991777b",
   "metadata": {},
   "source": [
    "# <center><span style=\"color:#D38F00\"><u>SORBONNE DATA ANALYTICS :<br/> Introduction à Python</u></span></center>"
   ]
  },
  {
   "cell_type": "markdown",
   "id": "901cabd3",
   "metadata": {},
   "source": [
    "## <span style=\"color:#011C5D\">1.7. Exercice de synthèse</span>"
   ]
  },
  {
   "cell_type": "markdown",
   "id": "bd909620",
   "metadata": {},
   "source": [
    "Objectif: **Créez une calculatrice en Python !**\n",
    "\n",
    "Créez une calculatrice qui accepte en entrée une chaîne de caractère contenant des opérations simples du type \"7+3\".\n",
    "Vous pouvez utiliser la fonction input() afin d'obtenir une saisie de la part de l'utilisateur.\n",
    "\n",
    "La calculatrice doit rester disponible tant que l'utilisateur le souhaite.\n",
    "\n",
    "Exemple d'utilisation de la calculatrice :\n",
    "```\n",
    "Bienvenue sur la calculatrice Python!\n",
    "Entrez votre premier nombre :\n",
    "6\n",
    "Entrez votre second nombre :\n",
    "3\n",
    "Entrez l'opération à effectuer (acceptés : '+', '-', '*', '/') :\n",
    "*\n",
    "18\n",
    "Voulez-vous continuer ? (O/N)\n",
    "q\n",
    "Je n'ai pas compris. Utilisez 'O' or 'N'\n",
    "O\n",
    "Entrez votre premier nombre :\n",
    "15\n",
    "Entrez votre second nombre :\n",
    "4\n",
    "Entrez l'opération à effectuer (acceptés : '+', '-', '*', '/') :\n",
    "+\n",
    "19\n",
    "Voulez-vous continuer ? (O/N)\n",
    "N\n",
    "Au revoir.\n",
    "```"
   ]
  },
  {
   "cell_type": "markdown",
   "id": "72125455",
   "metadata": {},
   "source": [
    "La fonction `input()` permet de receuillir une chaîne de charactère en rentrée par l'utilisateur du programme. Vous trouverez ci-dessous un exemple de l'utilisation de cette fonction:"
   ]
  },
  {
   "cell_type": "code",
   "execution_count": null,
   "id": "e394d14c",
   "metadata": {},
   "outputs": [],
   "source": [
    "# Exemple d'utilisation de la fonction input\n",
    "a = input()\n",
    "print(\"input : \" + a)"
   ]
  },
  {
   "cell_type": "code",
   "execution_count": null,
   "id": "d349593e",
   "metadata": {},
   "outputs": [],
   "source": [
    "##### Rentrez votre code ici ######\n"
   ]
  },
  {
   "cell_type": "code",
   "execution_count": null,
   "id": "836cd6cb",
   "metadata": {
    "cellView": "form"
   },
   "outputs": [],
   "source": [
    "#@title Cliquez ici pour la solution.\n",
    "\n",
    "# Dans cette fonction, nous demandons a l'utilisateur s'il souhaite continuer\n",
    "# et renvoyons un booleen en fonction de sa reponse\n",
    "# Si nous ne comprenons pas la reponse, nous reponsons la question\n",
    "def ask_if_keep_going():\n",
    "    answer = input()\n",
    "    if answer == 'O':\n",
    "        return True\n",
    "    elif answer == 'N':\n",
    "        return False\n",
    "    else:\n",
    "        print(\"Je n'ai pas compris. Utilisez 'O' or 'N'\")\n",
    "        return ask_if_keep_going()  # On appelle ceci une fonction recursive. Dans certains cas, elle peut s'appeler elle-meme\n",
    "\n",
    "print(\"Bienvenue sur la calculatrice Python!\")\n",
    "keep_going = True\n",
    "# Boucle principale, durant laquelle nous effectuons un calcul, \n",
    "# puis demandons a l'utilisateur s'il veut continuer\n",
    "while keep_going:\n",
    "    # Recuperation du calcul a effectuer\n",
    "    print(\"Entrez votre premier nombre :\")\n",
    "    first_number = int(input())\n",
    "    print(\"Entrez votre second nombre :\")\n",
    "    second_number = int(input())\n",
    "    print(\"Entrez l'opération à effectuer (acceptés : '+', '-', '*', '/') :\")\n",
    "    operation = input()\n",
    "    \n",
    "    # On effectue l'operation demandee\n",
    "    if operation == \"+\":\n",
    "        print(first_number + second_number)\n",
    "    elif operation == \"-\":\n",
    "        print(first_number - second_number)\n",
    "    elif operation == \"*\":\n",
    "        print(first_number * second_number)\n",
    "    elif operation == \"/\":\n",
    "        print(first_number / second_number)\n",
    "    else:\n",
    "        print(\"Opérateur invalide.\")\n",
    "\n",
    "    # Une fois le calcul termine, nous demandons a l'utilisateur s'il veut continuer\n",
    "    print(\"Voulez-vous continuer ? (O/N)\")\n",
    "    keep_going = ask_if_keep_going()\n",
    "print(\"Au revoir.\")"
   ]
  }
 ],
 "metadata": {
  "kernelspec": {
   "display_name": "Python 3 (ipykernel)",
   "language": "python",
   "name": "python3"
  },
  "language_info": {
   "codemirror_mode": {
    "name": "ipython",
    "version": 3
   },
   "file_extension": ".py",
   "mimetype": "text/x-python",
   "name": "python",
   "nbconvert_exporter": "python",
   "pygments_lexer": "ipython3",
   "version": "3.10.4"
  }
 },
 "nbformat": 4,
 "nbformat_minor": 5
}
