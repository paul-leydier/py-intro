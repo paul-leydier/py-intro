{
 "cells": [
  {
   "cell_type": "markdown",
   "id": "c991777b",
   "metadata": {},
   "source": [
    "# <center><span style=\"color:#D38F00\"><u>SORBONNE DATA ANALYTICS :<br/> Introduction à Python</u></span></center>"
   ]
  },
  {
   "cell_type": "markdown",
   "id": "901cabd3",
   "metadata": {},
   "source": [
    "## <span style=\"color:#011C5D\">1.7. Exercice de synthèse</span>"
   ]
  },
  {
   "cell_type": "markdown",
   "id": "bd909620",
   "metadata": {},
   "source": [
    "Objectif: **Créez une calculatrice en Python !**\n",
    "\n",
    "Créez une calculatrice qui accepte en entrée une chaîne de caractère contenant des opérations simples du type \"7+3\".\n",
    "Vous pouvez utiliser la fonction input() afin d'obtenir une saisie de la part de l'utilisateur.\n",
    "\n",
    "La calculatrice doit rester disponible tant que l'utilisateur le souhaite.\n",
    "\n",
    "Exemple d'utilisation de la calculatrice :\n",
    "```\n",
    "Bienvenue sur la calculatrice Python!\n",
    "Entrez votre premier nombre :\n",
    "6\n",
    "Entrez votre second nombre :\n",
    "3\n",
    "Entrez l'opération à effectuer (acceptés : '+', '-', '*', '/') :\n",
    "*\n",
    "18\n",
    "Voulez-vous continuer ? (O/N)\n",
    "q\n",
    "Je n'ai pas compris. Utilisez 'O' or 'N'\n",
    "O\n",
    "Entrez votre premier nombre :\n",
    "15\n",
    "Entrez votre second nombre :\n",
    "4\n",
    "Entrez l'opération à effectuer (acceptés : '+', '-', '*', '/') :\n",
    "+\n",
    "19\n",
    "Voulez-vous continuer ? (O/N)\n",
    "N\n",
    "Au revoir.\n",
    "```"
   ]
  },
  {
   "cell_type": "markdown",
   "id": "72125455",
   "metadata": {},
   "source": [
    "La fonction `input()` permet de receuillir une chaîne de charactère en rentrée par l'utilisateur du programme. Vous trouverez ci-dessous un exemple de l'utilisation de cette fonction:"
   ]
  },
  {
   "cell_type": "code",
   "execution_count": null,
   "id": "e394d14c",
   "metadata": {},
   "outputs": [],
   "source": [
    "# Exemple d'utilisation de la fonction input\n",
    "a = input()\n",
    "print(\"input : \" + a)"
   ]
  },
  {
   "cell_type": "code",
   "execution_count": null,
   "id": "d349593e",
   "metadata": {},
   "outputs": [],
   "source": [
    "##### Rentrez votre code ici ######\n"
   ]
  },
  {
   "cell_type": "code",
   "execution_count": null,
   "id": "836cd6cb",
   "metadata": {},
   "outputs": [],
   "source": [
    "%load exercices/1_exercice.py"
   ]
  }
 ],
 "metadata": {
  "kernelspec": {
   "display_name": "Python 3",
   "language": "python",
   "name": "python3"
  },
  "language_info": {
   "codemirror_mode": {
    "name": "ipython",
    "version": 3
   },
   "file_extension": ".py",
   "mimetype": "text/x-python",
   "name": "python",
   "nbconvert_exporter": "python",
   "pygments_lexer": "ipython3",
   "version": "3.8.8"
  }
 },
 "nbformat": 4,
 "nbformat_minor": 5
}
