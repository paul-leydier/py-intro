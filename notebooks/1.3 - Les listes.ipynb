{
 "cells": [
  {
   "cell_type": "markdown",
   "id": "opening-emerald",
   "metadata": {},
   "source": [
    "# <center><span style=\"color:#D38F00\"><u>SORBONNE DATA ANALYTICS :<br/> Introduction à Python</u></span></center>"
   ]
  },
  {
   "cell_type": "markdown",
   "id": "trying-chaos",
   "metadata": {},
   "source": [
    "Vous allez maintenant découvrir une **structure de données** de Python (c'est à dire un type pouvant contenir des éléments de différents types). Cette structure de données est particulièrement utile : il s'agit des **listes**.\n",
    "\n",
    "Une **liste** est une valeur en Python qui peut contenir 0, 1, ou plusieurs **éléments**, dont le type peut varier."
   ]
  },
  {
   "cell_type": "markdown",
   "id": "studied-parade",
   "metadata": {},
   "source": [
    "## <span style=\"color:#011C5D\">1.3. Les listes</span>"
   ]
  },
  {
   "cell_type": "markdown",
   "id": "occasional-butter",
   "metadata": {},
   "source": [
    "### <span style=\"color:#011C5D\">La déclaration</span>\n",
    "\n",
    "La syntaxe de déclaration d'une liste en Python utilise des **crochets** `[]` (aussi appelés \"brackets\" en anglais). À l'intérieur des crochets, vous devrez spécifier les éléments qui composent la liste.\n",
    "\n",
    "Dans l'exemple, les valeurs entières 1, 2, 3, et 4 sont les éléments de la liste `my_list`."
   ]
  },
  {
   "cell_type": "code",
   "execution_count": null,
   "id": "packed-trouble",
   "metadata": {},
   "outputs": [],
   "source": [
    "my_list = [1, 2, 3, 4]\n",
    "my_list"
   ]
  },
  {
   "cell_type": "markdown",
   "id": "daily-variation",
   "metadata": {},
   "source": [
    "Le type `list` n'est rien de plus qu'un autre type primitif de Python."
   ]
  },
  {
   "cell_type": "code",
   "execution_count": null,
   "id": "regular-louis",
   "metadata": {},
   "outputs": [],
   "source": [
    "type(my_list)"
   ]
  },
  {
   "cell_type": "markdown",
   "id": "sunrise-commission",
   "metadata": {},
   "source": [
    "Comme nous l'avons dit, il est de plus possible pour une liste de contenir des valeurs ayant des **types différents**. Vous pouvez par exemple insérer des éléments de type string et de type int au sein d'une même liste."
   ]
  },
  {
   "cell_type": "code",
   "execution_count": null,
   "id": "static-dayton",
   "metadata": {},
   "outputs": [],
   "source": [
    "my_list = ['a', 2, 'c', 4]  # Cette liste contient des str et des int\n",
    "my_list"
   ]
  },
  {
   "cell_type": "markdown",
   "id": "residential-steal",
   "metadata": {},
   "source": [
    "### <span style=\"color:#011C5D\">L'accession</span>\n",
    "\n",
    "Vous pourrez **accéder aux éléments** de votre liste de plusieurs manières.\n",
    "\n",
    "L'accès direct s'effectue via des crochets `[]`, appelés \"*accesseur*\" au sein desquels vous préciserez l'**index** de l'élément auquel vous souhaitez accéder.\n",
    "\n",
    "**/!\\ Attention**, en Python, comme dans de nombreux langages de programmation, **l'indexation commence à zéro** ! Il s'agit d'une erreur fréquente !"
   ]
  },
  {
   "cell_type": "code",
   "execution_count": null,
   "id": "employed-disabled",
   "metadata": {},
   "outputs": [],
   "source": [
    "my_list = [1, 2, 3, 4]\n",
    "my_list[0]  # accès à l'élément \"0\" de la liste (correspond donc au premier élément)"
   ]
  },
  {
   "cell_type": "code",
   "execution_count": null,
   "id": "twenty-repository",
   "metadata": {},
   "outputs": [],
   "source": [
    "my_list[1]  # accès à l'élément \"1\" de la liste (donc le deuxième élément)"
   ]
  },
  {
   "cell_type": "markdown",
   "id": "liable-aruba",
   "metadata": {},
   "source": [
    "Vous pouvez aussi accéder à un élément d'une liste en comptant **à partir de la fin**. Pour cela, il vous suffit de donner un index négatif dans les crochets d'accès."
   ]
  },
  {
   "cell_type": "code",
   "execution_count": null,
   "id": "proof-couple",
   "metadata": {},
   "outputs": [],
   "source": [
    "my_list[-1]  # accès au dernier élément"
   ]
  },
  {
   "cell_type": "code",
   "execution_count": null,
   "id": "sorted-newport",
   "metadata": {},
   "outputs": [],
   "source": [
    "my_list[-2]  # accès à l'avant dernier élément"
   ]
  },
  {
   "cell_type": "markdown",
   "id": "fixed-filling",
   "metadata": {},
   "source": [
    "### <span style=\"color:#011C5D\">Le slicing</span>\n",
    "Il est possible d'accéder à **plusieurs éléments** de la liste en même temps : il s'agit d'un sous-ensemble de la liste, aussi appelé \"*slice*\". L'action d'accéder à une slice d'une liste est appelée le \"*slicing*\".\n",
    "\n",
    "Vous pouvez déclarer la **slice** à laquelle vous souhaitez accéder en précisant l'**index de début** et l'**index de fin**, séparés par le signe `:`. \n",
    "\n",
    "**/!\\ Attention**, l'index de début est inclus dans la slice, mais **l'index de fin est exclus**. Il s'agit là aussi d'une erreur fréquente."
   ]
  },
  {
   "cell_type": "code",
   "execution_count": null,
   "id": "acting-detail",
   "metadata": {},
   "outputs": [],
   "source": [
    "my_list[0:2]  # les éléments de ma liste entre l'index 0 (inclus) et 2 (non inclus)"
   ]
  },
  {
   "cell_type": "markdown",
   "id": "mediterranean-exchange",
   "metadata": {},
   "source": [
    "Comme vous pouvez le voir, la slice renvoyée est elle aussi une liste."
   ]
  },
  {
   "cell_type": "code",
   "execution_count": null,
   "id": "optimum-delaware",
   "metadata": {},
   "outputs": [],
   "source": [
    "my_list[0:3]  # entre 0 et 3 (non inclus)"
   ]
  },
  {
   "cell_type": "markdown",
   "id": "located-syndrome",
   "metadata": {},
   "source": [
    "Vous pouvez, si vous le souhaitez, omettre le premier ou le deuxième index de la slice.\n",
    "\n",
    "Si vous omettez l'index de début, la slice commencera au premier élément de la liste.\n",
    "\n",
    "Si vous omettez l'index de fin, la slice finira au dernier élément de la liste."
   ]
  },
  {
   "cell_type": "code",
   "execution_count": null,
   "id": "above-durham",
   "metadata": {},
   "outputs": [],
   "source": [
    "my_list[:3]  # du début à 3 (non inclus)"
   ]
  },
  {
   "cell_type": "code",
   "execution_count": null,
   "id": "double-acting",
   "metadata": {},
   "outputs": [],
   "source": [
    "my_list[1:]  # entre 1 et la fin"
   ]
  },
  {
   "cell_type": "markdown",
   "id": "instant-projection",
   "metadata": {},
   "source": [
    "### <span style=\"color:#011C5D\">La modification</span>\n",
    "\n",
    "Pour **modifier l'un des éléments** d'une liste, vous pouvez utiliser l'attribution de valeur classique avec le signe `=`."
   ]
  },
  {
   "cell_type": "code",
   "execution_count": null,
   "id": "aware-mount",
   "metadata": {},
   "outputs": [],
   "source": [
    "my_list = [1, 2, 3, 4, 5, 6, 7, 8, 9, 10]\n",
    "my_list"
   ]
  },
  {
   "cell_type": "markdown",
   "id": "timely-knowing",
   "metadata": {},
   "source": [
    "Par exemple, pour modifier l'élément d'index 5 de votre liste, vous pouvez utiliser l'instruction suivante :"
   ]
  },
  {
   "cell_type": "code",
   "execution_count": null,
   "id": "boxed-vegetarian",
   "metadata": {},
   "outputs": [],
   "source": [
    "my_list[5] = 100  # modification de l'élément à l'index 5\n",
    "my_list"
   ]
  },
  {
   "cell_type": "markdown",
   "id": "proprietary-singles",
   "metadata": {},
   "source": [
    "Vous serez aussi fréquemment amenés à **modifier une slice** de liste. Dans l'exemple ci-dessous, nous modifions le sous-ensemble d'index 4 (inclus) à 6 (exclus) en lui attribuant une nouvelle liste de valeurs."
   ]
  },
  {
   "cell_type": "code",
   "execution_count": null,
   "id": "incorporate-familiar",
   "metadata": {},
   "outputs": [],
   "source": [
    "my_list[4:6] = [100, 100]  # modification de la slice [4:6]\n",
    "my_list"
   ]
  },
  {
   "cell_type": "markdown",
   "id": "significant-century",
   "metadata": {},
   "source": [
    "Vous pouvez aussi **supprimer un élément** d'une liste avec la fonction `del` (pour delete). Dans l'exemple ci-dessous, l'élément d'index 2 a été supprimé de my_list."
   ]
  },
  {
   "cell_type": "code",
   "execution_count": null,
   "id": "oriented-trust",
   "metadata": {},
   "outputs": [],
   "source": [
    "del(my_list[2])\n",
    "my_list"
   ]
  },
  {
   "cell_type": "markdown",
   "id": "inner-sterling",
   "metadata": {},
   "source": [
    "Enfin, vous pouvez obtenir la **longueur d'une liste** en utilisant la fonction `len` (pour \"*length*\" en anglais)."
   ]
  },
  {
   "cell_type": "code",
   "execution_count": null,
   "id": "blessed-occurrence",
   "metadata": {},
   "outputs": [],
   "source": [
    "len(my_list)"
   ]
  },
  {
   "cell_type": "markdown",
   "id": "hindu-complexity",
   "metadata": {},
   "source": [
    "### <span style=\"color:#011C5D\">Exercice sur les listes</span>"
   ]
  },
  {
   "cell_type": "markdown",
   "id": "advisory-tolerance",
   "metadata": {},
   "source": [
    "Utilisez une liste pour stocker manuellement les notes de musique de base (do, ré, mi, fa, sol, la, si).\n",
    "Utilisez la fonction `print()` pour afficher :\n",
    "\n",
    "- la troisième note\n",
    "- la dernière note\n",
    "- les quatrième, cinquième, et sixième notes\n",
    "- toutes les notes sauf la première\n",
    "\n",
    "Conseil : n'oubliez pas que l'indexation des listes commence à 0, et que la valeur supérieure des slicing est exclue."
   ]
  },
  {
   "cell_type": "code",
   "execution_count": null,
   "id": "julian-variance",
   "metadata": {},
   "outputs": [],
   "source": [
    "##### Rentrez votre code ici ######\n",
    "\n",
    "# Créez une liste contenant les notes de musiques de base\n",
    "\n",
    "# Affichez la troisième note\n",
    "\n",
    "# Affichez la dernière note\n",
    "\n",
    "# Affichez les quatrième, cinquième, et sixième notes\n",
    "\n",
    "# Affichez toutes les notes sauf la première\n"
   ]
  },
  {
   "cell_type": "code",
   "execution_count": null,
   "id": "architectural-voltage",
   "metadata": {},
   "outputs": [],
   "source": [
    "#@title Cliquez ici pour la solution.\n",
    "\n",
    "# Créez une liste contenant les notes de musiques de base\n",
    "notes = ['do', 'ré', 'mi', 'fa', 'sol', 'la', 'si']\n",
    "\n",
    "# Affichez la troisième note\n",
    "print(notes[2])  # L'index commence à 0 !\n",
    "\n",
    "# Affichez la dernière note\n",
    "print(notes[-1])\n",
    "\n",
    "# Affichez les quatrième, cinquième, et sixième notes\n",
    "print(notes[3:6])  # L'index de fin de slice (ici \"6\") est exclus !\n",
    "\n",
    "# Affichez toutes les notes sauf la première\n",
    "print(notes[1:])"
   ]
  },
  {
   "cell_type": "markdown",
   "id": "former-karma",
   "metadata": {},
   "source": [
    "## <span style=\"color:#D38F00\">Félicitations !</span>\n",
    "\n",
    "Vous avez découvert les **listes** de Python, comment les créer, les utiliser, et comment utiliser le **slicing** à votre avantage.\n",
    "\n",
    "Vous le verrez bientôt, les listes sont l'une des structures de données les plus utilisées dans ce langage."
   ]
  }
 ],
 "metadata": {
  "kernelspec": {
   "display_name": "Python 3",
   "language": "python",
   "name": "python3"
  },
  "language_info": {
   "codemirror_mode": {
    "name": "ipython",
    "version": 3
   },
   "file_extension": ".py",
   "mimetype": "text/x-python",
   "name": "python",
   "nbconvert_exporter": "python",
   "pygments_lexer": "ipython3",
   "version": "3.9.1"
  }
 },
 "nbformat": 4,
 "nbformat_minor": 5
}
